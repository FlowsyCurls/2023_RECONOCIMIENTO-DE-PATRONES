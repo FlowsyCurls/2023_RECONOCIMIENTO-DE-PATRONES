{
 "cells": [
  {
   "attachments": {},
   "cell_type": "markdown",
   "id": "3195f487",
   "metadata": {},
   "source": [
    "# Tarea 1\n",
    "### Regresión Lineal\n",
    "\n",
    "Estudiantes: \n",
    "\n",
    "Carlos Adrián Araya Ramírez---------2018319701\n",
    "\n",
    "Michael Shakime Richards Sparks----2018170667"
   ]
  },
  {
   "attachments": {},
   "cell_type": "markdown",
   "id": "70cfc1ce",
   "metadata": {},
   "source": [
    "# 2.1.1.\n"
   ]
  },
  {
   "cell_type": "code",
   "execution_count": 365,
   "id": "phantom-finland",
   "metadata": {},
   "outputs": [],
   "source": [
    "import numpy as np\n",
    "import matplotlib.pyplot as plt\n",
    "import pandas as pd\n",
    "import time\n"
   ]
  },
  {
   "cell_type": "code",
   "execution_count": 366,
   "id": "medical-miniature",
   "metadata": {},
   "outputs": [],
   "source": [
    "class LinearRegression:\n",
    "\n",
    "    def __init__(self, n_features):\n",
    "        self.W = np.random.normal(-1, 1, (n_features, 1))  # weights\n",
    "        self.b = np.random.rand(1)  # intercept\n",
    "\n",
    "    def descent(self, delta_W, delta_b, learning_rate):\n",
    "        # updating the weights with the calculated gradients\n",
    "        self.W -= learning_rate*delta_W\n",
    "        self.b -= learning_rate*delta_b\n",
    "\n",
    "    def derivatives(self, X, Y):\n",
    "        # partial derivative of cost w.r.t the weights\n",
    "        delta_W = np.sum(np.multiply(\n",
    "            ((np.matmul(X, self.W)+self.b)-Y), X))*2/X.shape[0]\n",
    "        # partial derivative of cost w.r.t the intercept\n",
    "        delta_b = np.sum(((np.matmul(X, self.W)+self.b)-Y))*2/X.shape[0]\n",
    "        return delta_W, delta_b\n",
    "\n",
    "    # fit\n",
    "    def train(self, X, Y, epochs=50, learning_rate=0.1):\n",
    "        X = np.array(X).reshape(-1, 1)\n",
    "        Y = np.array(Y).reshape(-1, 1)\n",
    "\n",
    "        for i in range(epochs):\n",
    "\n",
    "            delta_W, delta_b = self.derivatives(X, Y)\n",
    "            self.descent(delta_W, delta_b, learning_rate)\n",
    "\n",
    "        return self.W, self.b\n",
    "\n",
    "    def predict(self, X):\n",
    "        #         print(X.shape, X.reshape(-1,1).shape)\n",
    "        product = np.matmul(np.array(X).reshape(-1, 1), self.W)+self.b\n",
    "        return product\n"
   ]
  },
  {
   "attachments": {},
   "cell_type": "markdown",
   "id": "cbfb310a",
   "metadata": {},
   "source": [
    "# 2.1.2.\n"
   ]
  },
  {
   "cell_type": "code",
   "execution_count": 367,
   "id": "0eda8dda",
   "metadata": {},
   "outputs": [
    {
     "data": {
      "text/html": [
       "<div>\n",
       "<style scoped>\n",
       "    .dataframe tbody tr th:only-of-type {\n",
       "        vertical-align: middle;\n",
       "    }\n",
       "\n",
       "    .dataframe tbody tr th {\n",
       "        vertical-align: top;\n",
       "    }\n",
       "\n",
       "    .dataframe thead th {\n",
       "        text-align: right;\n",
       "    }\n",
       "</style>\n",
       "<table border=\"1\" class=\"dataframe\">\n",
       "  <thead>\n",
       "    <tr style=\"text-align: right;\">\n",
       "      <th></th>\n",
       "      <th>Flower</th>\n",
       "      <th>sepal length (cm)</th>\n",
       "      <th>petal width (cm)</th>\n",
       "    </tr>\n",
       "  </thead>\n",
       "  <tbody>\n",
       "    <tr>\n",
       "      <th>0</th>\n",
       "      <td>setosa</td>\n",
       "      <td>5.1</td>\n",
       "      <td>0.2</td>\n",
       "    </tr>\n",
       "    <tr>\n",
       "      <th>1</th>\n",
       "      <td>setosa</td>\n",
       "      <td>4.9</td>\n",
       "      <td>0.2</td>\n",
       "    </tr>\n",
       "    <tr>\n",
       "      <th>2</th>\n",
       "      <td>setosa</td>\n",
       "      <td>4.7</td>\n",
       "      <td>0.2</td>\n",
       "    </tr>\n",
       "    <tr>\n",
       "      <th>3</th>\n",
       "      <td>setosa</td>\n",
       "      <td>4.6</td>\n",
       "      <td>0.2</td>\n",
       "    </tr>\n",
       "    <tr>\n",
       "      <th>4</th>\n",
       "      <td>setosa</td>\n",
       "      <td>5.0</td>\n",
       "      <td>0.2</td>\n",
       "    </tr>\n",
       "    <tr>\n",
       "      <th>5</th>\n",
       "      <td>setosa</td>\n",
       "      <td>5.4</td>\n",
       "      <td>0.4</td>\n",
       "    </tr>\n",
       "    <tr>\n",
       "      <th>6</th>\n",
       "      <td>setosa</td>\n",
       "      <td>4.6</td>\n",
       "      <td>0.3</td>\n",
       "    </tr>\n",
       "    <tr>\n",
       "      <th>7</th>\n",
       "      <td>setosa</td>\n",
       "      <td>5.0</td>\n",
       "      <td>0.2</td>\n",
       "    </tr>\n",
       "    <tr>\n",
       "      <th>8</th>\n",
       "      <td>setosa</td>\n",
       "      <td>4.4</td>\n",
       "      <td>0.2</td>\n",
       "    </tr>\n",
       "    <tr>\n",
       "      <th>9</th>\n",
       "      <td>setosa</td>\n",
       "      <td>4.9</td>\n",
       "      <td>0.1</td>\n",
       "    </tr>\n",
       "  </tbody>\n",
       "</table>\n",
       "</div>"
      ],
      "text/plain": [
       "   Flower  sepal length (cm)  petal width (cm)\n",
       "0  setosa                5.1               0.2\n",
       "1  setosa                4.9               0.2\n",
       "2  setosa                4.7               0.2\n",
       "3  setosa                4.6               0.2\n",
       "4  setosa                5.0               0.2\n",
       "5  setosa                5.4               0.4\n",
       "6  setosa                4.6               0.3\n",
       "7  setosa                5.0               0.2\n",
       "8  setosa                4.4               0.2\n",
       "9  setosa                4.9               0.1"
      ]
     },
     "execution_count": 367,
     "metadata": {},
     "output_type": "execute_result"
    }
   ],
   "source": [
    "import sklearn.datasets as datasets\n",
    "import pandas as pd\n",
    "from matplotlib import pyplot as plt\n",
    "dataset = datasets.load_iris(as_frame=True)\n",
    "\n",
    "features = dataset.data\n",
    "target = dataset.target\n",
    "\n",
    "labels = []\n",
    "\n",
    "for i in target.to_list():\n",
    "    labels.append(dataset.target_names[i])\n",
    "\n",
    "data = {'Flower': labels ,'sepal length (cm)': features['sepal length (cm)'], 'petal width (cm)': features['petal width (cm)']}\n",
    "\n",
    "pd.DataFrame(data).head(10)\n"
   ]
  },
  {
   "cell_type": "markdown",
   "id": "4bab9a15",
   "metadata": {},
   "source": [
    "# 2.1.3. Feature engineering"
   ]
  },
  {
   "cell_type": "code",
   "execution_count": 368,
   "metadata": {},
   "outputs": [
    {
     "name": "stdout",
     "output_type": "stream",
     "text": [
      "0   -0.897674\n",
      "1   -1.139200\n",
      "2   -1.380727\n",
      "3   -1.501490\n",
      "4   -1.018437\n",
      "Name: sepal length (cm), dtype: float64 \n",
      "\n",
      "0   -1.311052\n",
      "1   -1.311052\n",
      "2   -1.311052\n",
      "3   -1.311052\n",
      "4   -1.311052\n",
      "Name: petal width (cm), dtype: float64 \n",
      "\n"
     ]
    }
   ],
   "source": [
    "x = (data['sepal length (cm)']-data['sepal length (cm)'].mean()) / data['sepal length (cm)'].std()\n",
    "target = (data['petal width (cm)']-data['petal width (cm)'].mean()) / data['petal width (cm)'].std()\n",
    "\n",
    "print(x.head(),\"\\n\")\n",
    "print(target.head(),\"\\n\")"
   ]
  },
  {
   "cell_type": "code",
   "execution_count": 369,
   "id": "f31f3048",
   "metadata": {},
   "outputs": [
    {
     "data": {
      "text/plain": [
       "((150,), (150,))"
      ]
     },
     "execution_count": 369,
     "metadata": {},
     "output_type": "execute_result"
    }
   ],
   "source": [
    "x.shape, target.shape"
   ]
  },
  {
   "attachments": {},
   "cell_type": "markdown",
   "id": "2c1682ea",
   "metadata": {},
   "source": [
    "# 2.1.4."
   ]
  },
  {
   "cell_type": "code",
   "execution_count": 370,
   "id": "25e8e5ee",
   "metadata": {},
   "outputs": [
    {
     "name": "stdout",
     "output_type": "stream",
     "text": [
      "[0.81794113] 4.469780761314253e-17\n"
     ]
    },
    {
     "data": {
      "text/plain": [
       "[<matplotlib.lines.Line2D at 0x158223c36d0>]"
      ]
     },
     "execution_count": 370,
     "metadata": {},
     "output_type": "execute_result"
    },
    {
     "data": {
      "image/png": "[encoded data removed]",
      "text/plain": [
       "<Figure size 432x288 with 1 Axes>"
      ]
     },
     "metadata": {
      "needs_background": "light"
     },
     "output_type": "display_data"
    }
   ],
   "source": [
    "reg = LinearRegression(n_features=1)\n",
    "\n",
    "params = reg.train(x, target, epochs=200, learning_rate=0.225)\n",
    "print(params[0][-1], params[1][-1])\n",
    "plt.scatter(x, target, color='red')\n",
    "pred = reg.predict(np.array(x))\n",
    "plt.plot(x, pred)"
   ]
  },
  {
   "attachments": {},
   "cell_type": "markdown",
   "id": "36c6f834",
   "metadata": {},
   "source": [
    "# 2.2.1."
   ]
  },
  {
   "cell_type": "code",
   "execution_count": 371,
   "id": "c61d672d",
   "metadata": {},
   "outputs": [],
   "source": [
    "import random\n",
    "class LinearRegression_list:\n",
    "\n",
    "    def __init__(self, n_features):\n",
    "        self.W = [[-1 + 2 * random.random() for _ in range(1)]\n",
    "                  for _ in range(n_features)]  # weights\n",
    "        self.b = [random.random()]  # intercept\n",
    "\n",
    "    def descent(self, delta_W, delta_b, learning_rate):\n",
    "        # updating the weights with the calculated gradients\n",
    "        for i in range(len(self.W)):\n",
    "            for e in range(len(self.W[i])):\n",
    "                self.W[i][e] -= learning_rate*delta_W\n",
    "\n",
    "        for i in range(len(self.b)):\n",
    "            self.b[i] -= learning_rate*delta_b\n",
    "\n",
    "    def derivatives(self, X, Y):\n",
    "        # partial derivative of cost w.r.t the weights\n",
    "        delta_W = 0\n",
    "        for i in range(len(X)):\n",
    "            for e in range(len(X[i])):\n",
    "                for j in range(len(self.W)):\n",
    "                    for k in range(len(self.W[j])):\n",
    "                        delta_W += ((X[i][e] * self.W[j][k] + self.b[j]) - Y[i][e]) * X[i][e]\n",
    "        delta_W *= 2 / len(X)\n",
    "\n",
    "        # partial derivative of cost w.r.t the intercept\n",
    "        delta_b = 0\n",
    "        for i in range(len(X)):\n",
    "            for e in range(len(X[i])):\n",
    "                for j in range(len(self.W)):\n",
    "                    for k in range(len(self.W[j])):\n",
    "                        delta_b += (X[i][e] * self.W[j][k] + self.b[j]) - Y[i][e]\n",
    "        delta_b *= 2 / len(X)\n",
    "\n",
    "        return delta_W, delta_b\n",
    "\n",
    "    # fit\n",
    "    def train(self, X, Y, epochs=50, learning_rate=0.1):\n",
    "\n",
    "        # Reshaping X and Y\n",
    "        x_temp = []\n",
    "        y_temp = []\n",
    "\n",
    "        for i in range(len(X)):\n",
    "            x_temp.append([X[i]])    \n",
    "\n",
    "        for i in range(len(Y)):\n",
    "            y_temp.append([Y[i]])\n",
    "\n",
    "        X = x_temp\n",
    "        Y = y_temp\n",
    "\n",
    "        for i in range(epochs):\n",
    "\n",
    "            delta_W, delta_b = self.derivatives(X, Y)\n",
    "            self.descent(delta_W, delta_b, learning_rate)\n",
    "            \n",
    "\n",
    "        return self.W, self.b\n",
    "\n",
    "    def predict(self, X):\n",
    "        \n",
    "        # Reshaping X\n",
    "        x_temp = []\n",
    "\n",
    "        for i in range(len(X)):\n",
    "            x_temp.append([X[i]])    \n",
    "\n",
    "        X = x_temp\n",
    "\n",
    "        product = X\n",
    "        for i in range(len(product)):\n",
    "            for e in range(len(product[i])):\n",
    "                for j in range(len(self.W)):\n",
    "                    for k in range(len(self.W[j])):\n",
    "                        for l in range(len(self.b)):\n",
    "                            product[i][e] = product[i][e] * self.W[j][k] + self.b[l]\n",
    "\n",
    "\n",
    "        return product"
   ]
  },
  {
   "cell_type": "code",
   "execution_count": 372,
   "id": "525100bc",
   "metadata": {},
   "outputs": [
    {
     "name": "stdout",
     "output_type": "stream",
     "text": [
      "[0.8179411262715757] 8.764586207536194e-17\n"
     ]
    },
    {
     "data": {
      "text/plain": [
       "[<matplotlib.lines.Line2D at 0x15822272c80>]"
      ]
     },
     "execution_count": 372,
     "metadata": {},
     "output_type": "execute_result"
    },
    {
     "data": {
      "image/png": "[encoded data removed]",
      "text/plain": [
       "<Figure size 432x288 with 1 Axes>"
      ]
     },
     "metadata": {
      "needs_background": "light"
     },
     "output_type": "display_data"
    }
   ],
   "source": [
    "reg = LinearRegression_list(n_features=1)\n",
    "\n",
    "params = reg.train(x, target, epochs=200, learning_rate=0.225)\n",
    "print(params[0][-1], params[1][-1])\n",
    "plt.scatter(x, target, color='red')\n",
    "pred = reg.predict(np.array(x))\n",
    "plt.plot(x, pred)"
   ]
  },
  {
   "attachments": {},
   "cell_type": "markdown",
   "id": "c34f3c78",
   "metadata": {},
   "source": [
    "# 2.2.2."
   ]
  },
  {
   "cell_type": "code",
   "execution_count": 373,
   "id": "6d0f7d98",
   "metadata": {},
   "outputs": [],
   "source": [
    "import torch\n",
    "\n",
    "class LinearRegression_torch:\n",
    "\n",
    "    def __init__(self, n_features):\n",
    "        self.W = torch.empty(n_features, 1).normal_(-1, 1)  # weights\n",
    "        self.b = torch.rand(1)  # intercept\n",
    "\n",
    "    def descent(self, delta_W, delta_b, learning_rate):\n",
    "        # updating the weights with the calculated gradients\n",
    "        self.W -= learning_rate*delta_W\n",
    "        self.b -= learning_rate*delta_b\n",
    "\n",
    "    def derivatives(self, X, Y):\n",
    "        # partial derivative of cost w.r.t the weights\n",
    "        delta_W = torch.sum(torch.mul(\n",
    "            ((torch.matmul(X, self.W)+self.b)-Y), X))*2/X.shape[0]\n",
    "        # partial derivative of cost w.r.t the intercept\n",
    "        delta_b = torch.sum(((torch.matmul(X, self.W)+self.b)-Y))*2/X.shape[0]\n",
    "        return delta_W, delta_b\n",
    "\n",
    "    # fit\n",
    "    def train(self, X, Y, epochs=50, learning_rate=0.1):\n",
    "        X = torch.Tensor(X).reshape(-1, 1)\n",
    "        Y = torch.Tensor(Y).reshape(-1, 1)\n",
    "\n",
    "        for i in range(epochs):\n",
    "\n",
    "            delta_W, delta_b = self.derivatives(X, Y)\n",
    "            self.descent(delta_W, delta_b, learning_rate)\n",
    "\n",
    "        return self.W, self.b\n",
    "\n",
    "    def predict(self, X):\n",
    "        product = torch.matmul(torch.Tensor(X).reshape(-1, 1), self.W)+self.b\n",
    "        return product"
   ]
  },
  {
   "cell_type": "code",
   "execution_count": 374,
   "id": "8b11e0f3",
   "metadata": {},
   "outputs": [
    {
     "name": "stdout",
     "output_type": "stream",
     "text": [
      "tensor([0.8179]) tensor(-2.6968e-08)\n"
     ]
    },
    {
     "data": {
      "image/png": "[encoded data removed]",
      "text/plain": [
       "<Figure size 432x288 with 1 Axes>"
      ]
     },
     "metadata": {
      "needs_background": "light"
     },
     "output_type": "display_data"
    }
   ],
   "source": [
    "reg = LinearRegression_torch(n_features=1)\n",
    "\n",
    "params = reg.train(x, target, epochs=200, learning_rate=0.225)\n",
    "print(params[0][-1], params[1][-1])\n",
    "plt.scatter(x, target, color='red')\n",
    "pred = reg.predict(x)\n",
    "plt.plot(x, pred)\n",
    "plt.show()"
   ]
  },
  {
   "attachments": {},
   "cell_type": "markdown",
   "id": "dbb39d23",
   "metadata": {},
   "source": [
    "## 2.2.3. Comparación entre implementaciones (numpy, listas, tensores)"
   ]
  },
  {
   "attachments": {},
   "cell_type": "markdown",
   "id": "33454b22",
   "metadata": {},
   "source": [
    "### Utilizando set de datos Iris con dos features"
   ]
  },
  {
   "cell_type": "code",
   "execution_count": 375,
   "id": "37809cd6",
   "metadata": {},
   "outputs": [
    {
     "data": {
      "text/html": [
       "<div>\n",
       "<style scoped>\n",
       "    .dataframe tbody tr th:only-of-type {\n",
       "        vertical-align: middle;\n",
       "    }\n",
       "\n",
       "    .dataframe tbody tr th {\n",
       "        vertical-align: top;\n",
       "    }\n",
       "\n",
       "    .dataframe thead th {\n",
       "        text-align: right;\n",
       "    }\n",
       "</style>\n",
       "<table border=\"1\" class=\"dataframe\">\n",
       "  <thead>\n",
       "    <tr style=\"text-align: right;\">\n",
       "      <th></th>\n",
       "      <th>Time using numpy impl</th>\n",
       "      <th>Time using lists impl</th>\n",
       "      <th>Time using pytorch impl</th>\n",
       "    </tr>\n",
       "  </thead>\n",
       "  <tbody>\n",
       "    <tr>\n",
       "      <th>0</th>\n",
       "      <td>0.009531</td>\n",
       "      <td>0.077791</td>\n",
       "      <td>0.021218</td>\n",
       "    </tr>\n",
       "  </tbody>\n",
       "</table>\n",
       "</div>"
      ],
      "text/plain": [
       "   Time using numpy impl  Time using lists impl  Time using pytorch impl\n",
       "0               0.009531               0.077791                 0.021218"
      ]
     },
     "execution_count": 375,
     "metadata": {},
     "output_type": "execute_result"
    }
   ],
   "source": [
    "start_time = time.time()\n",
    "reg = LinearRegression(n_features=1)\n",
    "params = reg.train(x, target, epochs=200, learning_rate=0.225)\n",
    "pred = reg.predict(np.array(x))\n",
    "end_time = time.time()\n",
    "linear_regression_time = end_time - start_time\n",
    "\n",
    "start_time = time.time()\n",
    "reg = LinearRegression_list(n_features=1)\n",
    "params = reg.train(x, target, epochs=200, learning_rate=0.225)\n",
    "pred = reg.predict(np.array(x))\n",
    "end_time = time.time()\n",
    "linear_regression_list_time = end_time - start_time\n",
    "\n",
    "start_time = time.time()\n",
    "reg = LinearRegression_torch(n_features=1)\n",
    "params = reg.train(x, target, epochs=200, learning_rate=0.225)\n",
    "pred = reg.predict(x)\n",
    "end_time = time.time()\n",
    "linear_regression_torch_time = end_time - start_time\n",
    "\n",
    "df1 = {'Time using numpy impl': [linear_regression_time],'Time using lists impl': [linear_regression_list_time] ,'Time using pytorch impl': [linear_regression_torch_time]}\n",
    "\n",
    "pd.DataFrame(df1)"
   ]
  },
  {
   "attachments": {},
   "cell_type": "markdown",
   "id": "6b76f4d3",
   "metadata": {},
   "source": [
    "### Utilizando set de datos creado por el grupo (dos features)"
   ]
  },
  {
   "cell_type": "code",
   "execution_count": 376,
   "id": "948ee221",
   "metadata": {},
   "outputs": [
    {
     "data": {
      "text/html": [
       "<div>\n",
       "<style scoped>\n",
       "    .dataframe tbody tr th:only-of-type {\n",
       "        vertical-align: middle;\n",
       "    }\n",
       "\n",
       "    .dataframe tbody tr th {\n",
       "        vertical-align: top;\n",
       "    }\n",
       "\n",
       "    .dataframe thead th {\n",
       "        text-align: right;\n",
       "    }\n",
       "</style>\n",
       "<table border=\"1\" class=\"dataframe\">\n",
       "  <thead>\n",
       "    <tr style=\"text-align: right;\">\n",
       "      <th></th>\n",
       "      <th>Class</th>\n",
       "      <th>X1</th>\n",
       "      <th>X2</th>\n",
       "    </tr>\n",
       "  </thead>\n",
       "  <tbody>\n",
       "    <tr>\n",
       "      <th>0</th>\n",
       "      <td>0.0</td>\n",
       "      <td>1.764052</td>\n",
       "      <td>1.931758</td>\n",
       "    </tr>\n",
       "    <tr>\n",
       "      <th>1</th>\n",
       "      <td>0.0</td>\n",
       "      <td>0.400157</td>\n",
       "      <td>3.713343</td>\n",
       "    </tr>\n",
       "    <tr>\n",
       "      <th>2</th>\n",
       "      <td>0.0</td>\n",
       "      <td>0.978738</td>\n",
       "      <td>1.255245</td>\n",
       "    </tr>\n",
       "    <tr>\n",
       "      <th>3</th>\n",
       "      <td>0.0</td>\n",
       "      <td>2.240893</td>\n",
       "      <td>1.173561</td>\n",
       "    </tr>\n",
       "    <tr>\n",
       "      <th>4</th>\n",
       "      <td>0.0</td>\n",
       "      <td>1.867558</td>\n",
       "      <td>1.901547</td>\n",
       "    </tr>\n",
       "    <tr>\n",
       "      <th>5</th>\n",
       "      <td>0.0</td>\n",
       "      <td>-0.977278</td>\n",
       "      <td>1.336522</td>\n",
       "    </tr>\n",
       "    <tr>\n",
       "      <th>6</th>\n",
       "      <td>0.0</td>\n",
       "      <td>0.950088</td>\n",
       "      <td>3.126636</td>\n",
       "    </tr>\n",
       "    <tr>\n",
       "      <th>7</th>\n",
       "      <td>0.0</td>\n",
       "      <td>-0.151357</td>\n",
       "      <td>0.920068</td>\n",
       "    </tr>\n",
       "    <tr>\n",
       "      <th>8</th>\n",
       "      <td>0.0</td>\n",
       "      <td>-0.103219</td>\n",
       "      <td>0.852531</td>\n",
       "    </tr>\n",
       "    <tr>\n",
       "      <th>9</th>\n",
       "      <td>0.0</td>\n",
       "      <td>0.410599</td>\n",
       "      <td>1.562180</td>\n",
       "    </tr>\n",
       "  </tbody>\n",
       "</table>\n",
       "</div>"
      ],
      "text/plain": [
       "   Class        X1        X2\n",
       "0    0.0  1.764052  1.931758\n",
       "1    0.0  0.400157  3.713343\n",
       "2    0.0  0.978738  1.255245\n",
       "3    0.0  2.240893  1.173561\n",
       "4    0.0  1.867558  1.901547\n",
       "5    0.0 -0.977278  1.336522\n",
       "6    0.0  0.950088  3.126636\n",
       "7    0.0 -0.151357  0.920068\n",
       "8    0.0 -0.103219  0.852531\n",
       "9    0.0  0.410599  1.562180"
      ]
     },
     "execution_count": 376,
     "metadata": {},
     "output_type": "execute_result"
    }
   ],
   "source": [
    "np.random.seed(0)\n",
    "\n",
    "# Se crean dos features\n",
    "X1 = np.random.randn(150, 1)\n",
    "X2 = np.random.randn(150, 1) + 2\n",
    "\n",
    "x1 = []\n",
    "x2 = []\n",
    "\n",
    "for i in range(len(X1)):\n",
    "    x1.append(X1[i][0])\n",
    "    x2.append(X2[i][0])\n",
    "\n",
    "x1 = np.array(x1)\n",
    "x2 = np.array(x2)\n",
    "\n",
    "# Crear dos clases\n",
    "y1 = np.zeros((75,))\n",
    "y2 = np.ones((75,))\n",
    "target = np.concatenate([y1, y2])\n",
    "\n",
    "data = {'Class': target ,'X1': x1, 'X2': x2}\n",
    "\n",
    "pd.DataFrame(data).head(10)\n"
   ]
  },
  {
   "attachments": {},
   "cell_type": "markdown",
   "id": "b0f6925c",
   "metadata": {},
   "source": [
    "## Feature engineering"
   ]
  },
  {
   "cell_type": "code",
   "execution_count": 377,
   "id": "146659d1",
   "metadata": {},
   "outputs": [
    {
     "name": "stdout",
     "output_type": "stream",
     "text": [
      "[1.60612811 0.26931714 0.83640849 2.07349988 1.70757835] \n",
      "\n",
      "[ 0.00214521  1.83705204 -0.69461593 -0.77874443 -0.02896992] \n",
      "\n"
     ]
    }
   ],
   "source": [
    "x = (data['X1']-data['X1'].mean()) / data['X1'].std()\n",
    "target = (data['X2']-data['X2'].mean()) / data['X2'].std()\n",
    "\n",
    "print(x[:5],\"\\n\")\n",
    "print(target[:5],\"\\n\")"
   ]
  },
  {
   "cell_type": "code",
   "execution_count": 378,
   "id": "c00faaea",
   "metadata": {},
   "outputs": [
    {
     "data": {
      "text/plain": [
       "((150,), (150,))"
      ]
     },
     "execution_count": 378,
     "metadata": {},
     "output_type": "execute_result"
    }
   ],
   "source": [
    "x.shape, target.shape"
   ]
  },
  {
   "cell_type": "code",
   "execution_count": 379,
   "id": "35a52ea7",
   "metadata": {},
   "outputs": [
    {
     "name": "stdout",
     "output_type": "stream",
     "text": [
      "[-0.03396563] -4.798072343593972e-16\n"
     ]
    },
    {
     "data": {
      "text/plain": [
       "[<matplotlib.lines.Line2D at 0x1581f54ace0>]"
      ]
     },
     "execution_count": 379,
     "metadata": {},
     "output_type": "execute_result"
    },
    {
     "data": {
      "image/png": "[encoded data removed]",
      "text/plain": [
       "<Figure size 432x288 with 1 Axes>"
      ]
     },
     "metadata": {
      "needs_background": "light"
     },
     "output_type": "display_data"
    }
   ],
   "source": [
    "reg = LinearRegression(n_features=1)\n",
    "\n",
    "params = reg.train(x, target, epochs=200, learning_rate=0.225)\n",
    "print(params[0][-1], params[1][-1])\n",
    "plt.scatter(x, target, color='red')\n",
    "pred = reg.predict(np.array(x))\n",
    "plt.plot(x, pred)"
   ]
  },
  {
   "cell_type": "code",
   "execution_count": 380,
   "id": "09d68260",
   "metadata": {},
   "outputs": [
    {
     "data": {
      "text/html": [
       "<div>\n",
       "<style scoped>\n",
       "    .dataframe tbody tr th:only-of-type {\n",
       "        vertical-align: middle;\n",
       "    }\n",
       "\n",
       "    .dataframe tbody tr th {\n",
       "        vertical-align: top;\n",
       "    }\n",
       "\n",
       "    .dataframe thead th {\n",
       "        text-align: right;\n",
       "    }\n",
       "</style>\n",
       "<table border=\"1\" class=\"dataframe\">\n",
       "  <thead>\n",
       "    <tr style=\"text-align: right;\">\n",
       "      <th></th>\n",
       "      <th>Time using numpy impl</th>\n",
       "      <th>Time using lists impl</th>\n",
       "      <th>Time using pytorch impl</th>\n",
       "    </tr>\n",
       "  </thead>\n",
       "  <tbody>\n",
       "    <tr>\n",
       "      <th>0</th>\n",
       "      <td>0.007518</td>\n",
       "      <td>0.076677</td>\n",
       "      <td>0.021174</td>\n",
       "    </tr>\n",
       "  </tbody>\n",
       "</table>\n",
       "</div>"
      ],
      "text/plain": [
       "   Time using numpy impl  Time using lists impl  Time using pytorch impl\n",
       "0               0.007518               0.076677                 0.021174"
      ]
     },
     "execution_count": 380,
     "metadata": {},
     "output_type": "execute_result"
    }
   ],
   "source": [
    "start_time = time.time()\n",
    "reg = LinearRegression(n_features=1)\n",
    "params = reg.train(x, target, epochs=200, learning_rate=0.225)\n",
    "pred = reg.predict(np.array(x))\n",
    "end_time = time.time()\n",
    "linear_regression_time = end_time - start_time\n",
    "\n",
    "start_time = time.time()\n",
    "reg = LinearRegression_list(n_features=1)\n",
    "params = reg.train(x, target, epochs=200, learning_rate=0.225)\n",
    "pred = reg.predict(np.array(x))\n",
    "end_time = time.time()\n",
    "linear_regression_list_time = end_time - start_time\n",
    "\n",
    "start_time = time.time()\n",
    "reg = LinearRegression_torch(n_features=1)\n",
    "params = reg.train(x, target, epochs=200, learning_rate=0.225)\n",
    "pred = reg.predict(x)\n",
    "end_time = time.time()\n",
    "linear_regression_torch_time = end_time - start_time\n",
    "\n",
    "df2 = {'Time using numpy impl': [linear_regression_time],'Time using lists impl': [linear_regression_list_time] ,'Time using pytorch impl': [linear_regression_torch_time]}\n",
    "\n",
    "pd.DataFrame(df2)"
   ]
  },
  {
   "attachments": {},
   "cell_type": "markdown",
   "id": "a452aab6",
   "metadata": {},
   "source": [
    "### Utilizando set de datos mostrado en clase (alturas y pesos)"
   ]
  },
  {
   "cell_type": "code",
   "execution_count": 381,
   "id": "electric-trauma",
   "metadata": {},
   "outputs": [
    {
     "data": {
      "text/html": [
       "<div>\n",
       "<style scoped>\n",
       "    .dataframe tbody tr th:only-of-type {\n",
       "        vertical-align: middle;\n",
       "    }\n",
       "\n",
       "    .dataframe tbody tr th {\n",
       "        vertical-align: top;\n",
       "    }\n",
       "\n",
       "    .dataframe thead th {\n",
       "        text-align: right;\n",
       "    }\n",
       "</style>\n",
       "<table border=\"1\" class=\"dataframe\">\n",
       "  <thead>\n",
       "    <tr style=\"text-align: right;\">\n",
       "      <th></th>\n",
       "      <th>Gender</th>\n",
       "      <th>Height</th>\n",
       "      <th>Weight</th>\n",
       "    </tr>\n",
       "  </thead>\n",
       "  <tbody>\n",
       "    <tr>\n",
       "      <th>0</th>\n",
       "      <td>Male</td>\n",
       "      <td>73.847017</td>\n",
       "      <td>241.893563</td>\n",
       "    </tr>\n",
       "    <tr>\n",
       "      <th>1</th>\n",
       "      <td>Male</td>\n",
       "      <td>68.781904</td>\n",
       "      <td>162.310473</td>\n",
       "    </tr>\n",
       "    <tr>\n",
       "      <th>2</th>\n",
       "      <td>Male</td>\n",
       "      <td>74.110105</td>\n",
       "      <td>212.740856</td>\n",
       "    </tr>\n",
       "    <tr>\n",
       "      <th>3</th>\n",
       "      <td>Male</td>\n",
       "      <td>71.730978</td>\n",
       "      <td>220.042470</td>\n",
       "    </tr>\n",
       "    <tr>\n",
       "      <th>4</th>\n",
       "      <td>Male</td>\n",
       "      <td>69.881796</td>\n",
       "      <td>206.349801</td>\n",
       "    </tr>\n",
       "  </tbody>\n",
       "</table>\n",
       "</div>"
      ],
      "text/plain": [
       "  Gender     Height      Weight\n",
       "0   Male  73.847017  241.893563\n",
       "1   Male  68.781904  162.310473\n",
       "2   Male  74.110105  212.740856\n",
       "3   Male  71.730978  220.042470\n",
       "4   Male  69.881796  206.349801"
      ]
     },
     "execution_count": 381,
     "metadata": {},
     "output_type": "execute_result"
    }
   ],
   "source": [
    "df = pd.read_csv(\"https://raw.githubusercontent.com/Baakchsu/LinearRegression/master/weight-height.csv\")\n",
    "df.head()"
   ]
  },
  {
   "cell_type": "code",
   "execution_count": 382,
   "id": "unavailable-grain",
   "metadata": {},
   "outputs": [
    {
     "data": {
      "text/plain": [
       "((10000,), (10000,))"
      ]
     },
     "execution_count": 382,
     "metadata": {},
     "output_type": "execute_result"
    }
   ],
   "source": [
    "# feature engineering?\n",
    "x = (df['Weight']-df['Weight'].mean()) / df['Weight'].std()  # standardization of the dataset\n",
    "target = (df[\"Height\"]-df['Height'].mean()) / df[\"Height\"].std()\n",
    "x.shape, target.shape\n",
    "\n"
   ]
  },
  {
   "cell_type": "code",
   "execution_count": 383,
   "id": "28c7880f",
   "metadata": {},
   "outputs": [],
   "source": [
    "reg = LinearRegression(n_features=1)\n"
   ]
  },
  {
   "cell_type": "code",
   "execution_count": 384,
   "id": "conceptual-layer",
   "metadata": {},
   "outputs": [
    {
     "name": "stdout",
     "output_type": "stream",
     "text": [
      "[0.9247563] -2.510159133459974e-16\n"
     ]
    },
    {
     "data": {
      "text/plain": [
       "[<matplotlib.lines.Line2D at 0x1582316c970>]"
      ]
     },
     "execution_count": 384,
     "metadata": {},
     "output_type": "execute_result"
    },
    {
     "data": {
      "image/png": "[encoded data removed]",
      "text/plain": [
       "<Figure size 432x288 with 1 Axes>"
      ]
     },
     "metadata": {
      "needs_background": "light"
     },
     "output_type": "display_data"
    }
   ],
   "source": [
    "params = reg.train(x, target, epochs=200, learning_rate=0.225)\n",
    "print(params[0][-1], params[1][-1])\n",
    "plt.scatter(x[:180], target[:180], color='red')\n",
    "pred = reg.predict(np.array(x[:180]))\n",
    "plt.plot(x[:180], pred[:180])\n"
   ]
  },
  {
   "cell_type": "code",
   "execution_count": 385,
   "id": "f92b7dd1",
   "metadata": {},
   "outputs": [
    {
     "data": {
      "text/html": [
       "<div>\n",
       "<style scoped>\n",
       "    .dataframe tbody tr th:only-of-type {\n",
       "        vertical-align: middle;\n",
       "    }\n",
       "\n",
       "    .dataframe tbody tr th {\n",
       "        vertical-align: top;\n",
       "    }\n",
       "\n",
       "    .dataframe thead th {\n",
       "        text-align: right;\n",
       "    }\n",
       "</style>\n",
       "<table border=\"1\" class=\"dataframe\">\n",
       "  <thead>\n",
       "    <tr style=\"text-align: right;\">\n",
       "      <th></th>\n",
       "      <th>Time using numpy impl</th>\n",
       "      <th>Time using lists impl</th>\n",
       "      <th>Time using pytorch impl</th>\n",
       "    </tr>\n",
       "  </thead>\n",
       "  <tbody>\n",
       "    <tr>\n",
       "      <th>0</th>\n",
       "      <td>0.030556</td>\n",
       "      <td>4.659432</td>\n",
       "      <td>0.039363</td>\n",
       "    </tr>\n",
       "  </tbody>\n",
       "</table>\n",
       "</div>"
      ],
      "text/plain": [
       "   Time using numpy impl  Time using lists impl  Time using pytorch impl\n",
       "0               0.030556               4.659432                 0.039363"
      ]
     },
     "execution_count": 385,
     "metadata": {},
     "output_type": "execute_result"
    }
   ],
   "source": [
    "start_time = time.time()\n",
    "reg = LinearRegression(n_features=1)\n",
    "params = reg.train(x, target, epochs=200, learning_rate=0.225)\n",
    "pred = reg.predict(np.array(x))\n",
    "end_time = time.time()\n",
    "linear_regression_time = end_time - start_time\n",
    "\n",
    "start_time = time.time()\n",
    "reg = LinearRegression_list(n_features=1)\n",
    "params = reg.train(x, target, epochs=200, learning_rate=0.225)\n",
    "pred = reg.predict(np.array(x))\n",
    "end_time = time.time()\n",
    "linear_regression_list_time = end_time - start_time\n",
    "\n",
    "start_time = time.time()\n",
    "reg = LinearRegression_torch(n_features=1)\n",
    "params = reg.train(x, target, epochs=200, learning_rate=0.225)\n",
    "pred = reg.predict(x)\n",
    "end_time = time.time()\n",
    "linear_regression_torch_time = end_time - start_time\n",
    "\n",
    "df3 = {'Time using numpy impl': [linear_regression_time],'Time using lists impl': [linear_regression_list_time] ,'Time using pytorch impl': [linear_regression_torch_time]}\n",
    "\n",
    "pd.DataFrame(df3)"
   ]
  },
  {
   "attachments": {},
   "cell_type": "markdown",
   "id": "19c0c84c",
   "metadata": {},
   "source": [
    "# Comparación de resultados finales de todas los tiempos para todos los algoritmos:"
   ]
  },
  {
   "attachments": {},
   "cell_type": "markdown",
   "id": "1a01f0c4",
   "metadata": {},
   "source": [
    "### - Dataset Iris:"
   ]
  },
  {
   "cell_type": "code",
   "execution_count": 386,
   "id": "09090174",
   "metadata": {},
   "outputs": [
    {
     "data": {
      "text/html": [
       "<div>\n",
       "<style scoped>\n",
       "    .dataframe tbody tr th:only-of-type {\n",
       "        vertical-align: middle;\n",
       "    }\n",
       "\n",
       "    .dataframe tbody tr th {\n",
       "        vertical-align: top;\n",
       "    }\n",
       "\n",
       "    .dataframe thead th {\n",
       "        text-align: right;\n",
       "    }\n",
       "</style>\n",
       "<table border=\"1\" class=\"dataframe\">\n",
       "  <thead>\n",
       "    <tr style=\"text-align: right;\">\n",
       "      <th></th>\n",
       "      <th>Time using numpy impl</th>\n",
       "      <th>Time using lists impl</th>\n",
       "      <th>Time using pytorch impl</th>\n",
       "    </tr>\n",
       "  </thead>\n",
       "  <tbody>\n",
       "    <tr>\n",
       "      <th>0</th>\n",
       "      <td>0.009531</td>\n",
       "      <td>0.077791</td>\n",
       "      <td>0.021218</td>\n",
       "    </tr>\n",
       "  </tbody>\n",
       "</table>\n",
       "</div>"
      ],
      "text/plain": [
       "   Time using numpy impl  Time using lists impl  Time using pytorch impl\n",
       "0               0.009531               0.077791                 0.021218"
      ]
     },
     "execution_count": 386,
     "metadata": {},
     "output_type": "execute_result"
    }
   ],
   "source": [
    "pd.DataFrame(df1)"
   ]
  },
  {
   "attachments": {},
   "cell_type": "markdown",
   "id": "76392f5d",
   "metadata": {},
   "source": [
    "### - Dataset propio:"
   ]
  },
  {
   "cell_type": "code",
   "execution_count": 387,
   "id": "497add8c",
   "metadata": {},
   "outputs": [
    {
     "data": {
      "text/html": [
       "<div>\n",
       "<style scoped>\n",
       "    .dataframe tbody tr th:only-of-type {\n",
       "        vertical-align: middle;\n",
       "    }\n",
       "\n",
       "    .dataframe tbody tr th {\n",
       "        vertical-align: top;\n",
       "    }\n",
       "\n",
       "    .dataframe thead th {\n",
       "        text-align: right;\n",
       "    }\n",
       "</style>\n",
       "<table border=\"1\" class=\"dataframe\">\n",
       "  <thead>\n",
       "    <tr style=\"text-align: right;\">\n",
       "      <th></th>\n",
       "      <th>Time using numpy impl</th>\n",
       "      <th>Time using lists impl</th>\n",
       "      <th>Time using pytorch impl</th>\n",
       "    </tr>\n",
       "  </thead>\n",
       "  <tbody>\n",
       "    <tr>\n",
       "      <th>0</th>\n",
       "      <td>0.007518</td>\n",
       "      <td>0.076677</td>\n",
       "      <td>0.021174</td>\n",
       "    </tr>\n",
       "  </tbody>\n",
       "</table>\n",
       "</div>"
      ],
      "text/plain": [
       "   Time using numpy impl  Time using lists impl  Time using pytorch impl\n",
       "0               0.007518               0.076677                 0.021174"
      ]
     },
     "execution_count": 387,
     "metadata": {},
     "output_type": "execute_result"
    }
   ],
   "source": [
    "pd.DataFrame(df2)"
   ]
  },
  {
   "attachments": {},
   "cell_type": "markdown",
   "id": "5a9317d5",
   "metadata": {},
   "source": [
    "### - Dataset altura y pesos:"
   ]
  },
  {
   "cell_type": "code",
   "execution_count": 388,
   "id": "8288b2dd",
   "metadata": {},
   "outputs": [
    {
     "data": {
      "text/html": [
       "<div>\n",
       "<style scoped>\n",
       "    .dataframe tbody tr th:only-of-type {\n",
       "        vertical-align: middle;\n",
       "    }\n",
       "\n",
       "    .dataframe tbody tr th {\n",
       "        vertical-align: top;\n",
       "    }\n",
       "\n",
       "    .dataframe thead th {\n",
       "        text-align: right;\n",
       "    }\n",
       "</style>\n",
       "<table border=\"1\" class=\"dataframe\">\n",
       "  <thead>\n",
       "    <tr style=\"text-align: right;\">\n",
       "      <th></th>\n",
       "      <th>Time using numpy impl</th>\n",
       "      <th>Time using lists impl</th>\n",
       "      <th>Time using pytorch impl</th>\n",
       "    </tr>\n",
       "  </thead>\n",
       "  <tbody>\n",
       "    <tr>\n",
       "      <th>0</th>\n",
       "      <td>0.030556</td>\n",
       "      <td>4.659432</td>\n",
       "      <td>0.039363</td>\n",
       "    </tr>\n",
       "  </tbody>\n",
       "</table>\n",
       "</div>"
      ],
      "text/plain": [
       "   Time using numpy impl  Time using lists impl  Time using pytorch impl\n",
       "0               0.030556               4.659432                 0.039363"
      ]
     },
     "execution_count": 388,
     "metadata": {},
     "output_type": "execute_result"
    }
   ],
   "source": [
    "pd.DataFrame(df3)"
   ]
  },
  {
   "attachments": {},
   "cell_type": "markdown",
   "id": "449aa782",
   "metadata": {},
   "source": [
    "### Análisis de resultados:\n",
    "\n",
    "Como se puede observar, la implementación hecha con listas es la que tarda más con todos los datasets como es de esperarse ya que las bibliotecas de numpy y pytorch están optimizadas para ser lo más eficientes posibles a la hora de trabajar con operaciones matriciales, a diferencia de la implementación manual con listas la cual requiere iterar sobre todos los elementos de las matrices y aplicar cálculos matemáticos sobre cada índice. "
   ]
  }
 ],
 "metadata": {
  "kernelspec": {
   "display_name": "Python 3 (ipykernel)",
   "language": "python",
   "name": "python3"
  },
  "language_info": {
   "codemirror_mode": {
    "name": "ipython",
    "version": 3
   },
   "file_extension": ".py",
   "mimetype": "text/x-python",
   "name": "python",
   "nbconvert_exporter": "python",
   "pygments_lexer": "ipython3",
   "version": "3.10.10"
  }
 },
 "nbformat": 4,
 "nbformat_minor": 5
}
