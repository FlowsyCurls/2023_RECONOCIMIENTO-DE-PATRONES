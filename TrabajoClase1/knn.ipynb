{
 "cells": [
  {
   "attachments": {},
   "cell_type": "markdown",
   "metadata": {},
   "source": [
    "# Trabajo en clase 1\n",
    "### Verificando el comportamiento de K Nearest Neighbors KNN\n",
    "\n",
    "Estudiantes: \n",
    "\n",
    "Carlos Adrián Araya Ramírez---------2018319701\n",
    "\n",
    "Michael Shakime Richards Sparks----2018170667"
   ]
  },
  {
   "attachments": {},
   "cell_type": "markdown",
   "metadata": {},
   "source": [
    "# 3. Teoria\n",
    "\n",
    "<h5> 1. Indique cual es costo de “Training” y de test del algoritmo KNN. <h5>\n",
    "\n",
    "<h6>\n",
    "Costo de entrenamiento: O(1)\n",
    "\n",
    "Costo de test: O(N^2)\n",
    "<h6>\n",
    "\n",
    "<h5> 2. Explique por qué se dice que instance learning es un algoritmo por fuerza bruta o perezoso.<h5>\n",
    "\n",
    "<h6>\n",
    "Se le llama algoritmo peresozo debido a que no existe un modelo que represente al conjunto de entrenamiento, ni existe una fase de aprendizaje y también se le conoce como fuerza bruta porque almacena todos los datos de su entrenamiento y dada una instancia nueva se debe buscar la instancia más similar almacenada en memoria (fuerza bruta) para realizar una predicción.\n",
    "<h6>\n",
    "\n",
    "https://idus.us.es/bitstream/handle/11441/24306/O_Tesis-PROV43.pdf?sequence=1&isAllowed=y\n",
    "\n",
    "<h5> 3. Indique cuantas comparaciones se deben realizar en la etapa de testeo (asumiendo el peor de los casos). <h5> \n",
    "\n",
    "<h6>\n",
    "En el peor de los casos para N feature vectors, se requerirían N comparaciones.\n",
    "<h6>\n",
    "\n",
    "<h5> 4. Investigue alguna modificación que se ha realizado al algoritmo original del KNN. <h5>\n",
    "\n",
    "<h6>\n",
    "Ponderación de distancia: esta mejora utiliza una regla de votación en la que los distintos miembros del conjunto de vecinos, son ponderados en función de su distancia a la otra instancia a clasificar.\n",
    "Se han propuesto varios esquemas de este tipo con varias funciones de pesado, la base del primer esquema que se propuso \n",
    "es que un vecino de menor distancia debe tener un peso mayor que uno de mayor distancia. La primera de las funciones de ponderación, consistía en un escalado lineal en función de la distancia de cada vecino. Así, el más cercano tendría un valor de 1, el más lejano tendría un valor de 0, y el resto tendría un peso con un valor normalizado de su distancia.\n",
    "\n",
    "<h6>\n",
    "\n",
    "https://idus.us.es/bitstream/handle/11441/24306/O_Tesis-PROV43.pdf?sequence=1&isAllowed=y"
   ]
  },
  {
   "attachments": {},
   "cell_type": "markdown",
   "metadata": {},
   "source": [
    "# 4.  Realizando un clasificador de múltiples clases"
   ]
  },
  {
   "attachments": {},
   "cell_type": "markdown",
   "metadata": {},
   "source": [
    "## 4.1."
   ]
  },
  {
   "cell_type": "code",
   "execution_count": 2,
   "metadata": {},
   "outputs": [
    {
     "name": "stdout",
     "output_type": "stream",
     "text": [
      "x:\n",
      " [0.51338253 0.02619748]\n",
      "y:\n",
      " [[0.97666737 0.75621197]\n",
      " [0.52125041 0.32905995]\n",
      " [0.15080858 0.16766588]\n",
      " [0.71896341 0.54466932]\n",
      " [0.16602905 0.24923295]\n",
      " [0.47802692 0.41800469]]\n",
      "\n",
      "Euclidian distance:\n",
      " [0.86461205 0.30296465 0.38919555 0.55774236 0.41279445 0.39339917]\n",
      "\n",
      "Cosine distance:\n",
      " [0.17913583 0.12829456 0.29423593 0.17316935 0.40389854 0.21464468]\n"
     ]
    }
   ],
   "source": [
    "import numpy as np\n",
    "\n",
    "def euclidian_distance(a, b):\n",
    "    return np.sqrt(np.sum((a-b)**2, axis=1))\n",
    "\n",
    "def cosine_distance(a, b):\n",
    "    # Calcula la norma Euclidiana de a y de cada fila de b\n",
    "    norm_a = np.linalg.norm(a)\n",
    "    norm_b = np.linalg.norm(b, axis=1)\n",
    "    \n",
    "    # Calcula el producto punto entre a y cada fila de b\n",
    "    dot_ab = np.dot(a, b.T)\n",
    "    \n",
    "    # Calcula la cosine similarity entre a y cada fila de b\n",
    "    cosine_sim = dot_ab / (norm_a * norm_b)\n",
    "    \n",
    "    return 1 - cosine_sim\n",
    "\n",
    "x = np.random.rand(1, 2)[0]\n",
    "y = np.random.rand(6, 2)\n",
    "print(\"x:\\n\", x)\n",
    "print(\"y:\\n\",y)\n",
    "a = euclidian_distance(x, y)\n",
    "b = cosine_distance(x, y)\n",
    "\n",
    "print(\"\\nEuclidian distance:\\n\", a)\n",
    "print(\"\\nCosine distance:\\n\", b)"
   ]
  },
  {
   "cell_type": "code",
   "execution_count": 3,
   "metadata": {},
   "outputs": [],
   "source": [
    "class KNearestNeighbors():\n",
    "    def __init__(self, X_train, y_train, n_neighbors=5, weights='uniform', n_classes = 3):\n",
    "\n",
    "        self.X_train = X_train\n",
    "        self.y_train = y_train\n",
    "\n",
    "        self.n_neighbors = n_neighbors\n",
    "        self.weights = weights\n",
    "\n",
    "        self.n_classes = n_classes\n",
    "\n",
    "    def euclidian_distance(self, a, b):\n",
    "        return np.sqrt(np.sum((a - b)**2, axis=1))\n",
    "    \n",
    "    def cosine_distance(self, a, b):\n",
    "        # Calcula la norma Euclidiana de a y de cada fila de b\n",
    "        norm_a = np.linalg.norm(a)\n",
    "        norm_b = np.linalg.norm(b, axis=1)\n",
    "        \n",
    "        # Calcula el producto punto entre a y cada fila de b\n",
    "        dot_ab = np.dot(a, b.T)\n",
    "        \n",
    "        # Calcula la cosine similarity entre a y cada fila de b\n",
    "        cosine_sim = dot_ab / (norm_a * norm_b)\n",
    "        \n",
    "        # Retorna la distancia entre los angulos la cual esta definida como 1 - cosine_similarity\n",
    "        return 1 - cosine_sim\n",
    "\n",
    "    def kneighbors(self, X_test, return_distance=False):\n",
    "\n",
    "        dist = []\n",
    "        neigh_ind = []\n",
    "\n",
    "        point_dist = []\n",
    "        for x_test in X_test:\n",
    "            point_dist += [ self.cosine_distance(x_test, self.X_train) ]\n",
    "\n",
    "        for row in point_dist:\n",
    "            enum_neigh = enumerate(row)\n",
    "            sorted_neigh = sorted(enum_neigh,\n",
    "                                  key=lambda x: x[1])[:self.n_neighbors]\n",
    "\n",
    "            ind_list = [tup[0] for tup in sorted_neigh]\n",
    "            dist_list = [tup[1] for tup in sorted_neigh]\n",
    "\n",
    "            dist.append(dist_list)\n",
    "            neigh_ind.append(ind_list)\n",
    "\n",
    "        if return_distance:\n",
    "            return np.array(dist), np.array(neigh_ind)\n",
    "\n",
    "        return np.array(neigh_ind)\n",
    "\n",
    "    def predict(self, X_test):\n",
    "\n",
    "        if self.weights == 'uniform':\n",
    "            neighbors = self.kneighbors(X_test)\n",
    "            y_pred = np.array([\n",
    "                np.argmax(np.bincount(self.y_train[neighbor]))\n",
    "                for neighbor in neighbors\n",
    "            ])\n",
    "            return y_pred\n",
    "\n",
    "        if self.weights == 'distance':\n",
    "            # Calcula las distancias y los índices de los k vecinos más cercanos\n",
    "            distances, neigh_indexes = self.kneighbors(X_test, return_distance=True)\n",
    "\n",
    "            # Calcula las ponderaciones inversas de las distancias\n",
    "            inv_distances = 1 / distances\n",
    "\n",
    "            # Normaliza las ponderaciones inversas por fila para obtener una media ponderada\n",
    "            # inversa de las distancias de los k vecinos más cercanos\n",
    "            mean_inv_dist = inv_distances / np.sum(inv_distances, axis=1)[:, np.newaxis]\n",
    "\n",
    "            # Inicializa una lista vacía para almacenar las probabilidades\n",
    "            proba = []\n",
    "\n",
    "            # Itera sobre cada fila de mean_inv_dist\n",
    "            for i, row in enumerate(mean_inv_dist):\n",
    "\n",
    "                # Obtiene las etiquetas de clase de los k vecinos más cercanos para esta fila\n",
    "                row_pred = self.y_train[neigh_indexes[i]]\n",
    "\n",
    "                # Itera sobre cada clase y calcula la probabilidad de pertenencia a esa clase\n",
    "                for k in range(self.n_classes):\n",
    "                    # Encuentra los índices de los vecinos que pertenecen a la clase k\n",
    "                    indices = np.where(row_pred == k)\n",
    "                    # Suma las ponderaciones inversas de los vecinos que pertenecen a la clase k\n",
    "                    prob_ind = np.sum(row[indices])\n",
    "                    # Añade la probabilidad de pertenencia a la clase k a la lista de probabilidades\n",
    "                    proba.append(np.array(prob_ind))\n",
    "\n",
    "            # Convierte la lista de probabilidades en un arreglo y le da forma de matriz\n",
    "            predict_proba = np.array(proba).reshape(len(X_test), self.n_classes)\n",
    "\n",
    "            # Asigna la clase con la probabilidad más alta a cada punto de prueba\n",
    "            y_pred = np.argmax(predict_proba, axis=1)\n",
    "\n",
    "            return y_pred\n",
    "\n",
    "    def score(self, X_test, y_test):\n",
    "        y_pred = self.predict(X_test)\n",
    "        return float(sum(y_pred == y_test)) / float(len(y_test)), y_pred, y_test"
   ]
  },
  {
   "attachments": {},
   "cell_type": "markdown",
   "metadata": {},
   "source": [
    "## Diagrama distancia entre elementos\n",
    "\n",
    "![Diagrama distancias](diagrama.png)"
   ]
  },
  {
   "cell_type": "markdown",
   "metadata": {},
   "source": [
    "# Iris dataset (Observations/Treatments)"
   ]
  },
  {
   "cell_type": "code",
   "execution_count": 4,
   "metadata": {},
   "outputs": [],
   "source": [
    "import sklearn.datasets as datasets\n",
    "from sklearn.model_selection import train_test_split\n",
    "from sklearn.neighbors import KNeighborsClassifier\n",
    "import pandas as pd\n",
    "from matplotlib import pyplot as plt\n",
    "dataset = datasets.load_iris(as_frame=True)\n",
    "\n",
    "X = dataset.data\n",
    "y = dataset.target\n"
   ]
  },
  {
   "cell_type": "code",
   "execution_count": 5,
   "metadata": {},
   "outputs": [
    {
     "data": {
      "text/html": [
       "<div>\n",
       "<style scoped>\n",
       "    .dataframe tbody tr th:only-of-type {\n",
       "        vertical-align: middle;\n",
       "    }\n",
       "\n",
       "    .dataframe tbody tr th {\n",
       "        vertical-align: top;\n",
       "    }\n",
       "\n",
       "    .dataframe thead th {\n",
       "        text-align: right;\n",
       "    }\n",
       "</style>\n",
       "<table border=\"1\" class=\"dataframe\">\n",
       "  <thead>\n",
       "    <tr style=\"text-align: right;\">\n",
       "      <th></th>\n",
       "      <th>sepal length (cm)</th>\n",
       "      <th>sepal width (cm)</th>\n",
       "      <th>petal length (cm)</th>\n",
       "      <th>petal width (cm)</th>\n",
       "    </tr>\n",
       "  </thead>\n",
       "  <tbody>\n",
       "    <tr>\n",
       "      <th>0</th>\n",
       "      <td>5.1</td>\n",
       "      <td>3.5</td>\n",
       "      <td>1.4</td>\n",
       "      <td>0.2</td>\n",
       "    </tr>\n",
       "    <tr>\n",
       "      <th>1</th>\n",
       "      <td>4.9</td>\n",
       "      <td>3.0</td>\n",
       "      <td>1.4</td>\n",
       "      <td>0.2</td>\n",
       "    </tr>\n",
       "    <tr>\n",
       "      <th>2</th>\n",
       "      <td>4.7</td>\n",
       "      <td>3.2</td>\n",
       "      <td>1.3</td>\n",
       "      <td>0.2</td>\n",
       "    </tr>\n",
       "    <tr>\n",
       "      <th>3</th>\n",
       "      <td>4.6</td>\n",
       "      <td>3.1</td>\n",
       "      <td>1.5</td>\n",
       "      <td>0.2</td>\n",
       "    </tr>\n",
       "    <tr>\n",
       "      <th>4</th>\n",
       "      <td>5.0</td>\n",
       "      <td>3.6</td>\n",
       "      <td>1.4</td>\n",
       "      <td>0.2</td>\n",
       "    </tr>\n",
       "    <tr>\n",
       "      <th>5</th>\n",
       "      <td>5.4</td>\n",
       "      <td>3.9</td>\n",
       "      <td>1.7</td>\n",
       "      <td>0.4</td>\n",
       "    </tr>\n",
       "    <tr>\n",
       "      <th>6</th>\n",
       "      <td>4.6</td>\n",
       "      <td>3.4</td>\n",
       "      <td>1.4</td>\n",
       "      <td>0.3</td>\n",
       "    </tr>\n",
       "    <tr>\n",
       "      <th>7</th>\n",
       "      <td>5.0</td>\n",
       "      <td>3.4</td>\n",
       "      <td>1.5</td>\n",
       "      <td>0.2</td>\n",
       "    </tr>\n",
       "    <tr>\n",
       "      <th>8</th>\n",
       "      <td>4.4</td>\n",
       "      <td>2.9</td>\n",
       "      <td>1.4</td>\n",
       "      <td>0.2</td>\n",
       "    </tr>\n",
       "    <tr>\n",
       "      <th>9</th>\n",
       "      <td>4.9</td>\n",
       "      <td>3.1</td>\n",
       "      <td>1.5</td>\n",
       "      <td>0.1</td>\n",
       "    </tr>\n",
       "    <tr>\n",
       "      <th>10</th>\n",
       "      <td>5.4</td>\n",
       "      <td>3.7</td>\n",
       "      <td>1.5</td>\n",
       "      <td>0.2</td>\n",
       "    </tr>\n",
       "    <tr>\n",
       "      <th>11</th>\n",
       "      <td>4.8</td>\n",
       "      <td>3.4</td>\n",
       "      <td>1.6</td>\n",
       "      <td>0.2</td>\n",
       "    </tr>\n",
       "    <tr>\n",
       "      <th>12</th>\n",
       "      <td>4.8</td>\n",
       "      <td>3.0</td>\n",
       "      <td>1.4</td>\n",
       "      <td>0.1</td>\n",
       "    </tr>\n",
       "    <tr>\n",
       "      <th>13</th>\n",
       "      <td>4.3</td>\n",
       "      <td>3.0</td>\n",
       "      <td>1.1</td>\n",
       "      <td>0.1</td>\n",
       "    </tr>\n",
       "    <tr>\n",
       "      <th>14</th>\n",
       "      <td>5.8</td>\n",
       "      <td>4.0</td>\n",
       "      <td>1.2</td>\n",
       "      <td>0.2</td>\n",
       "    </tr>\n",
       "    <tr>\n",
       "      <th>15</th>\n",
       "      <td>5.7</td>\n",
       "      <td>4.4</td>\n",
       "      <td>1.5</td>\n",
       "      <td>0.4</td>\n",
       "    </tr>\n",
       "    <tr>\n",
       "      <th>16</th>\n",
       "      <td>5.4</td>\n",
       "      <td>3.9</td>\n",
       "      <td>1.3</td>\n",
       "      <td>0.4</td>\n",
       "    </tr>\n",
       "    <tr>\n",
       "      <th>17</th>\n",
       "      <td>5.1</td>\n",
       "      <td>3.5</td>\n",
       "      <td>1.4</td>\n",
       "      <td>0.3</td>\n",
       "    </tr>\n",
       "    <tr>\n",
       "      <th>18</th>\n",
       "      <td>5.7</td>\n",
       "      <td>3.8</td>\n",
       "      <td>1.7</td>\n",
       "      <td>0.3</td>\n",
       "    </tr>\n",
       "    <tr>\n",
       "      <th>19</th>\n",
       "      <td>5.1</td>\n",
       "      <td>3.8</td>\n",
       "      <td>1.5</td>\n",
       "      <td>0.3</td>\n",
       "    </tr>\n",
       "  </tbody>\n",
       "</table>\n",
       "</div>"
      ],
      "text/plain": [
       "    sepal length (cm)  sepal width (cm)  petal length (cm)  petal width (cm)\n",
       "0                 5.1               3.5                1.4               0.2\n",
       "1                 4.9               3.0                1.4               0.2\n",
       "2                 4.7               3.2                1.3               0.2\n",
       "3                 4.6               3.1                1.5               0.2\n",
       "4                 5.0               3.6                1.4               0.2\n",
       "5                 5.4               3.9                1.7               0.4\n",
       "6                 4.6               3.4                1.4               0.3\n",
       "7                 5.0               3.4                1.5               0.2\n",
       "8                 4.4               2.9                1.4               0.2\n",
       "9                 4.9               3.1                1.5               0.1\n",
       "10                5.4               3.7                1.5               0.2\n",
       "11                4.8               3.4                1.6               0.2\n",
       "12                4.8               3.0                1.4               0.1\n",
       "13                4.3               3.0                1.1               0.1\n",
       "14                5.8               4.0                1.2               0.2\n",
       "15                5.7               4.4                1.5               0.4\n",
       "16                5.4               3.9                1.3               0.4\n",
       "17                5.1               3.5                1.4               0.3\n",
       "18                5.7               3.8                1.7               0.3\n",
       "19                5.1               3.8                1.5               0.3"
      ]
     },
     "execution_count": 5,
     "metadata": {},
     "output_type": "execute_result"
    }
   ],
   "source": [
    "X.head(20)"
   ]
  },
  {
   "cell_type": "code",
   "execution_count": 6,
   "metadata": {},
   "outputs": [
    {
     "data": {
      "text/plain": [
       "0    50\n",
       "1    50\n",
       "2    50\n",
       "Name: target, dtype: int64"
      ]
     },
     "execution_count": 6,
     "metadata": {},
     "output_type": "execute_result"
    }
   ],
   "source": [
    "y.value_counts()"
   ]
  },
  {
   "cell_type": "code",
   "execution_count": 7,
   "metadata": {},
   "outputs": [
    {
     "data": {
      "image/png": "[encoded data removed]",
      "text/plain": [
       "<Figure size 432x288 with 1 Axes>"
      ]
     },
     "metadata": {
      "needs_background": "light"
     },
     "output_type": "display_data"
    }
   ],
   "source": [
    "plt.hist(X['petal width (cm)'],10)\n",
    "plt.show()"
   ]
  },
  {
   "cell_type": "code",
   "execution_count": 8,
   "metadata": {
    "scrolled": true
   },
   "outputs": [
    {
     "data": {
      "image/png": "[encoded data removed]",
      "text/plain": [
       "<Figure size 432x288 with 1 Axes>"
      ]
     },
     "metadata": {
      "needs_background": "light"
     },
     "output_type": "display_data"
    }
   ],
   "source": [
    "\n",
    "plt.hist(X['petal length (cm)'],30)\n",
    "plt.show()"
   ]
  },
  {
   "cell_type": "code",
   "execution_count": 9,
   "metadata": {
    "scrolled": true
   },
   "outputs": [
    {
     "data": {
      "image/png": "[encoded data removed]",
      "text/plain": [
       "<Figure size 432x288 with 1 Axes>"
      ]
     },
     "metadata": {
      "needs_background": "light"
     },
     "output_type": "display_data"
    }
   ],
   "source": [
    "\n",
    "plt.hist(X['sepal length (cm)'],10)\n",
    "plt.show()"
   ]
  },
  {
   "cell_type": "code",
   "execution_count": 10,
   "metadata": {},
   "outputs": [],
   "source": [
    "mu = np.mean(X, 0)\n",
    "sigma = np.std(X, 0)\n",
    "X = (X - mu ) / sigma"
   ]
  },
  {
   "cell_type": "code",
   "execution_count": 11,
   "metadata": {},
   "outputs": [
    {
     "data": {
      "image/png": "[encoded data removed]",
      "text/plain": [
       "<Figure size 432x288 with 1 Axes>"
      ]
     },
     "metadata": {
      "needs_background": "light"
     },
     "output_type": "display_data"
    }
   ],
   "source": [
    "plt.hist(X['petal width (cm)'],10)\n",
    "plt.show()"
   ]
  },
  {
   "cell_type": "code",
   "execution_count": 12,
   "metadata": {},
   "outputs": [
    {
     "data": {
      "image/png": "[encoded data removed]",
      "text/plain": [
       "<Figure size 432x288 with 1 Axes>"
      ]
     },
     "metadata": {
      "needs_background": "light"
     },
     "output_type": "display_data"
    }
   ],
   "source": [
    "plt.hist(X['sepal length (cm)'],10)\n",
    "plt.show()"
   ]
  },
  {
   "cell_type": "code",
   "execution_count": 13,
   "metadata": {},
   "outputs": [
    {
     "data": {
      "text/plain": [
       "(array(['setosa', 'versicolor', 'virginica'], dtype='<U10'),\n",
       " ['sepal length (cm)',\n",
       "  'sepal width (cm)',\n",
       "  'petal length (cm)',\n",
       "  'petal width (cm)'])"
      ]
     },
     "execution_count": 13,
     "metadata": {},
     "output_type": "execute_result"
    }
   ],
   "source": [
    "dataset.target_names, dataset.feature_names\n"
   ]
  },
  {
   "attachments": {},
   "cell_type": "markdown",
   "metadata": {},
   "source": [
    "## 4.1.2."
   ]
  },
  {
   "cell_type": "code",
   "execution_count": 14,
   "metadata": {},
   "outputs": [
    {
     "data": {
      "text/html": [
       "<div>\n",
       "<style scoped>\n",
       "    .dataframe tbody tr th:only-of-type {\n",
       "        vertical-align: middle;\n",
       "    }\n",
       "\n",
       "    .dataframe tbody tr th {\n",
       "        vertical-align: top;\n",
       "    }\n",
       "\n",
       "    .dataframe thead th {\n",
       "        text-align: right;\n",
       "    }\n",
       "</style>\n",
       "<table border=\"1\" class=\"dataframe\">\n",
       "  <thead>\n",
       "    <tr style=\"text-align: right;\">\n",
       "      <th></th>\n",
       "      <th>k</th>\n",
       "      <th>Cosine accuracy</th>\n",
       "      <th>Sklearn accuracy</th>\n",
       "      <th>Cosine time</th>\n",
       "      <th>Sklearn time</th>\n",
       "    </tr>\n",
       "  </thead>\n",
       "  <tbody>\n",
       "    <tr>\n",
       "      <th>0</th>\n",
       "      <td>2</td>\n",
       "      <td>0.866667</td>\n",
       "      <td>0.911111</td>\n",
       "      <td>0.008018</td>\n",
       "      <td>0.011033</td>\n",
       "    </tr>\n",
       "    <tr>\n",
       "      <th>1</th>\n",
       "      <td>3</td>\n",
       "      <td>0.800000</td>\n",
       "      <td>0.955556</td>\n",
       "      <td>0.009095</td>\n",
       "      <td>0.005009</td>\n",
       "    </tr>\n",
       "    <tr>\n",
       "      <th>2</th>\n",
       "      <td>4</td>\n",
       "      <td>0.866667</td>\n",
       "      <td>0.955556</td>\n",
       "      <td>0.009028</td>\n",
       "      <td>0.006556</td>\n",
       "    </tr>\n",
       "    <tr>\n",
       "      <th>3</th>\n",
       "      <td>5</td>\n",
       "      <td>0.800000</td>\n",
       "      <td>0.955556</td>\n",
       "      <td>0.007586</td>\n",
       "      <td>0.007539</td>\n",
       "    </tr>\n",
       "    <tr>\n",
       "      <th>4</th>\n",
       "      <td>6</td>\n",
       "      <td>0.866667</td>\n",
       "      <td>0.933333</td>\n",
       "      <td>0.005032</td>\n",
       "      <td>0.007161</td>\n",
       "    </tr>\n",
       "    <tr>\n",
       "      <th>5</th>\n",
       "      <td>7</td>\n",
       "      <td>0.844444</td>\n",
       "      <td>0.933333</td>\n",
       "      <td>0.005524</td>\n",
       "      <td>0.003004</td>\n",
       "    </tr>\n",
       "    <tr>\n",
       "      <th>6</th>\n",
       "      <td>9</td>\n",
       "      <td>0.844444</td>\n",
       "      <td>0.933333</td>\n",
       "      <td>0.012170</td>\n",
       "      <td>0.005072</td>\n",
       "    </tr>\n",
       "    <tr>\n",
       "      <th>7</th>\n",
       "      <td>11</td>\n",
       "      <td>0.866667</td>\n",
       "      <td>0.955556</td>\n",
       "      <td>0.009137</td>\n",
       "      <td>0.005000</td>\n",
       "    </tr>\n",
       "  </tbody>\n",
       "</table>\n",
       "</div>"
      ],
      "text/plain": [
       "    k  Cosine accuracy  Sklearn accuracy  Cosine time  Sklearn time\n",
       "0   2         0.866667          0.911111     0.008018      0.011033\n",
       "1   3         0.800000          0.955556     0.009095      0.005009\n",
       "2   4         0.866667          0.955556     0.009028      0.006556\n",
       "3   5         0.800000          0.955556     0.007586      0.007539\n",
       "4   6         0.866667          0.933333     0.005032      0.007161\n",
       "5   7         0.844444          0.933333     0.005524      0.003004\n",
       "6   9         0.844444          0.933333     0.012170      0.005072\n",
       "7  11         0.866667          0.955556     0.009137      0.005000"
      ]
     },
     "execution_count": 14,
     "metadata": {},
     "output_type": "execute_result"
    }
   ],
   "source": [
    "import time\n",
    "\n",
    "if isinstance(X, pd.DataFrame):\n",
    "    X = X.to_numpy()\n",
    "    y = y.to_numpy()\n",
    "\n",
    "X_train, X_test, y_train, y_test = train_test_split(X, y, test_size=0.3, random_state=45)\n",
    "\n",
    "k = [2,3,4,5,6,7,9,11]\n",
    "\n",
    "sk_results = []\n",
    "sk_time = []\n",
    "\n",
    "cosine_results = []\n",
    "cosine_time = []\n",
    "\n",
    "for i in k:\n",
    "\n",
    "    start_time = time.time()\n",
    "    our_classifier = KNearestNeighbors(X_train, y_train, n_neighbors=i, weights='distance')\n",
    "    our_accuracy, y_pred, y_test = our_classifier.score(X_test, y_test)\n",
    "    end_time = time.time()\n",
    "    cosine_time.append(end_time - start_time)\n",
    "    \n",
    "    start_time = time.time()\n",
    "    sklearn_classifier = KNeighborsClassifier(n_neighbors=i).fit(X_train, y_train)\n",
    "    sklearn_accuracy = sklearn_classifier.score(X_test, y_test)\n",
    "    end_time = time.time()\n",
    "    sk_time.append(end_time - start_time)\n",
    "\n",
    "    sk_results.append(sklearn_accuracy)\n",
    "    cosine_results.append(our_accuracy)\n",
    "\n",
    "data = {'k': k, 'Cosine accuracy': cosine_results, 'Sklearn accuracy': sk_results,'Cosine time': cosine_time,  'Sklearn time': sk_time}\n",
    "\n",
    "pd.DataFrame(data)\n"
   ]
  },
  {
   "attachments": {},
   "cell_type": "markdown",
   "metadata": {},
   "source": [
    "### Discusión de los resultados\n",
    "\n",
    "Se puede observar que el algoritmo k-NN de la biblioteca sklearn logró obtener una mayor precisión en comparación con el método basado en el cálculo de la distancia del coseno para la mayoría de los valores de k considerados. Además, en términos de tiempo, el algoritmo k-NN de la biblioteca sklearn tuvo un mayor tiempo de ejecución en comparación con el método basado en el cálculo de la distancia del coseno para la mayoría de los valores de k considerados.\n",
    "\n",
    "En resumen, el método basado en el cálculo de la distancia del coseno tuvo tiempos de ejecución más rápidos para algunos valores de k, el algoritmo k-NN de la biblioteca sklearn demostró ser más efectivo en términos de precisión. En general, la elección del método dependerá de las necesidades específicas del proyecto, ya sea la precisión o el tiempo de ejecución es más crítico."
   ]
  },
  {
   "attachments": {},
   "cell_type": "markdown",
   "metadata": {},
   "source": [
    "## 4.1.3."
   ]
  },
  {
   "cell_type": "code",
   "execution_count": 15,
   "metadata": {},
   "outputs": [
    {
     "data": {
      "image/png": "[encoded data removed]",
      "text/plain": [
       "<Figure size 720x360 with 2 Axes>"
      ]
     },
     "metadata": {
      "needs_background": "light"
     },
     "output_type": "display_data"
    }
   ],
   "source": [
    "# Crear figura y ejes\n",
    "fig, (ax1, ax2) = plt.subplots(ncols=2, figsize=(10,5))\n",
    "\n",
    "# Graficar datos en ambas subtramas\n",
    "ax1.plot(k, sk_results, '-o', label='sklearn')\n",
    "ax1.plot(k, cosine_results, '-o', label='cosine')\n",
    "ax2.plot(k, sk_time, '-o', label='sklearn')\n",
    "ax2.plot(k, cosine_time, '-o', label='cosine')\n",
    "\n",
    "# Configurar ejes y etiquetas en ambas subtramas\n",
    "ax1.set_xlabel('K')\n",
    "ax1.set_ylabel('Accuracy')\n",
    "ax1.set_title('K vs Cosine & Sklearn accuracy')\n",
    "ax1.legend()\n",
    "ax2.set_xlabel('K')\n",
    "ax2.set_ylabel('Time')\n",
    "ax2.set_title('K vs Cosine & Sklearn time')\n",
    "ax2.legend()\n",
    "\n",
    "# Ajustar espaciado entre subtramas\n",
    "fig.tight_layout()\n",
    "\n",
    "# Mostrar figura\n",
    "plt.show()"
   ]
  },
  {
   "attachments": {},
   "cell_type": "markdown",
   "metadata": {},
   "source": [
    "# 4.2. Clasificador de múltiples clase"
   ]
  },
  {
   "attachments": {},
   "cell_type": "markdown",
   "metadata": {},
   "source": [
    "## 4.2.1."
   ]
  },
  {
   "cell_type": "code",
   "execution_count": 16,
   "metadata": {},
   "outputs": [],
   "source": [
    "from sklearn.datasets import load_digits\n",
    "import matplotlib.pyplot as plt\n",
    "\n",
    "digits = load_digits(n_class=10, as_frame=True)"
   ]
  },
  {
   "attachments": {},
   "cell_type": "markdown",
   "metadata": {},
   "source": [
    "## 4.2.2."
   ]
  },
  {
   "cell_type": "code",
   "execution_count": 17,
   "metadata": {},
   "outputs": [
    {
     "data": {
      "image/png": "[encoded data removed]",
      "text/plain": [
       "<Figure size 360x432 with 12 Axes>"
      ]
     },
     "metadata": {
      "needs_background": "light"
     },
     "output_type": "display_data"
    }
   ],
   "source": [
    "fig, axes = plt.subplots(nrows=3, ncols=4, figsize=(5, 6))\n",
    "plt.gray()\n",
    "\n",
    "for i, ax in enumerate(axes.flat):\n",
    "    ax.imshow(digits.images[i], cmap='binary')\n",
    "    ax.set_title(digits.target[i])\n",
    "    ax.axis('off')\n",
    "\n",
    "plt.show()"
   ]
  },
  {
   "attachments": {},
   "cell_type": "markdown",
   "metadata": {},
   "source": [
    "## 4.2.3."
   ]
  },
  {
   "cell_type": "code",
   "execution_count": 18,
   "metadata": {},
   "outputs": [
    {
     "name": "stdout",
     "output_type": "stream",
     "text": [
      "Cantidad de datos:\t 1797\n",
      "Cantidad de features:\t 64\n"
     ]
    }
   ],
   "source": [
    "dimensiones = digits.data.shape\n",
    "\n",
    "print(\"Cantidad de datos:\\t\", dimensiones[0])\n",
    "print(\"Cantidad de features:\\t\", dimensiones[1])\n"
   ]
  },
  {
   "attachments": {},
   "cell_type": "markdown",
   "metadata": {},
   "source": [
    "## 4.2.4."
   ]
  },
  {
   "cell_type": "code",
   "execution_count": 19,
   "metadata": {},
   "outputs": [],
   "source": [
    "X = digits.data\n",
    "y = digits.target\n",
    "\n",
    "if isinstance(X, pd.DataFrame):\n",
    "    X = X.to_numpy()\n",
    "    y = y.to_numpy()\n",
    "\n",
    "X_train, X_test, y_train, y_test = train_test_split(X, y, test_size=0.25, random_state=45)\n",
    "\n"
   ]
  },
  {
   "attachments": {},
   "cell_type": "markdown",
   "metadata": {},
   "source": [
    "## 4.2.5."
   ]
  },
  {
   "cell_type": "code",
   "execution_count": 20,
   "metadata": {},
   "outputs": [
    {
     "data": {
      "text/html": [
       "<div>\n",
       "<style scoped>\n",
       "    .dataframe tbody tr th:only-of-type {\n",
       "        vertical-align: middle;\n",
       "    }\n",
       "\n",
       "    .dataframe tbody tr th {\n",
       "        vertical-align: top;\n",
       "    }\n",
       "\n",
       "    .dataframe thead th {\n",
       "        text-align: right;\n",
       "    }\n",
       "</style>\n",
       "<table border=\"1\" class=\"dataframe\">\n",
       "  <thead>\n",
       "    <tr style=\"text-align: right;\">\n",
       "      <th></th>\n",
       "      <th>k</th>\n",
       "      <th>Uniform accuracy (normal)</th>\n",
       "      <th>Cosine accuracy (our)</th>\n",
       "      <th>Uniform time</th>\n",
       "      <th>Cosine time</th>\n",
       "    </tr>\n",
       "  </thead>\n",
       "  <tbody>\n",
       "    <tr>\n",
       "      <th>0</th>\n",
       "      <td>2</td>\n",
       "      <td>0.984444</td>\n",
       "      <td>0.986667</td>\n",
       "      <td>0.627775</td>\n",
       "      <td>0.741149</td>\n",
       "    </tr>\n",
       "    <tr>\n",
       "      <th>1</th>\n",
       "      <td>3</td>\n",
       "      <td>0.980000</td>\n",
       "      <td>0.980000</td>\n",
       "      <td>0.482202</td>\n",
       "      <td>0.714187</td>\n",
       "    </tr>\n",
       "    <tr>\n",
       "      <th>2</th>\n",
       "      <td>5</td>\n",
       "      <td>0.980000</td>\n",
       "      <td>0.982222</td>\n",
       "      <td>0.447821</td>\n",
       "      <td>0.589875</td>\n",
       "    </tr>\n",
       "    <tr>\n",
       "      <th>3</th>\n",
       "      <td>7</td>\n",
       "      <td>0.971111</td>\n",
       "      <td>0.986667</td>\n",
       "      <td>0.466778</td>\n",
       "      <td>0.619639</td>\n",
       "    </tr>\n",
       "    <tr>\n",
       "      <th>4</th>\n",
       "      <td>8</td>\n",
       "      <td>0.968889</td>\n",
       "      <td>0.977778</td>\n",
       "      <td>0.497711</td>\n",
       "      <td>0.560035</td>\n",
       "    </tr>\n",
       "    <tr>\n",
       "      <th>5</th>\n",
       "      <td>10</td>\n",
       "      <td>0.966667</td>\n",
       "      <td>0.975556</td>\n",
       "      <td>0.395408</td>\n",
       "      <td>0.550872</td>\n",
       "    </tr>\n",
       "    <tr>\n",
       "      <th>6</th>\n",
       "      <td>11</td>\n",
       "      <td>0.966667</td>\n",
       "      <td>0.977778</td>\n",
       "      <td>0.397494</td>\n",
       "      <td>0.476423</td>\n",
       "    </tr>\n",
       "  </tbody>\n",
       "</table>\n",
       "</div>"
      ],
      "text/plain": [
       "    k  Uniform accuracy (normal)  Cosine accuracy (our)  Uniform time  \\\n",
       "0   2                   0.984444               0.986667      0.627775   \n",
       "1   3                   0.980000               0.980000      0.482202   \n",
       "2   5                   0.980000               0.982222      0.447821   \n",
       "3   7                   0.971111               0.986667      0.466778   \n",
       "4   8                   0.968889               0.977778      0.497711   \n",
       "5  10                   0.966667               0.975556      0.395408   \n",
       "6  11                   0.966667               0.977778      0.397494   \n",
       "\n",
       "   Cosine time  \n",
       "0     0.741149  \n",
       "1     0.714187  \n",
       "2     0.589875  \n",
       "3     0.619639  \n",
       "4     0.560035  \n",
       "5     0.550872  \n",
       "6     0.476423  "
      ]
     },
     "execution_count": 20,
     "metadata": {},
     "output_type": "execute_result"
    }
   ],
   "source": [
    "import time\n",
    "\n",
    "k = [2,3,5,7,8,10,11]\n",
    "\n",
    "uniform_results = []\n",
    "uniform_time = []\n",
    "\n",
    "cosine_results = []\n",
    "cosine_time = []\n",
    "\n",
    "for i in k:\n",
    "\n",
    "    start_time = time.time()\n",
    "    our_classifier_cosine = KNearestNeighbors(X_train, y_train, n_neighbors=i, weights='distance', n_classes=10)\n",
    "    our_accuracy_cosine, y_pred, y_test = our_classifier_cosine.score(X_test, y_test)\n",
    "    end_time = time.time()\n",
    "    cosine_time.append(end_time - start_time)\n",
    "    \n",
    "    start_time = time.time()\n",
    "    our_classifier_uniform = KNearestNeighbors(X_train, y_train, n_neighbors=i, weights='uniform', n_classes=10)\n",
    "    our_accuracy_uniform, y_pred, y_test = our_classifier_uniform.score(X_test, y_test)\n",
    "    end_time = time.time()\n",
    "    uniform_time.append(end_time - start_time)\n",
    "\n",
    "    uniform_results.append(our_accuracy_uniform)\n",
    "    cosine_results.append(our_accuracy_cosine)\n",
    "\n",
    "data = {'k': k, 'Uniform accuracy (normal)': uniform_results, 'Cosine accuracy (our)': cosine_results, 'Uniform time': uniform_time, 'Cosine time': cosine_time}\n",
    "\n",
    "pd.DataFrame(data)"
   ]
  },
  {
   "attachments": {},
   "cell_type": "markdown",
   "metadata": {},
   "source": [
    "## 4.2.6."
   ]
  },
  {
   "cell_type": "code",
   "execution_count": 21,
   "metadata": {},
   "outputs": [
    {
     "data": {
      "text/html": [
       "<div>\n",
       "<style scoped>\n",
       "    .dataframe tbody tr th:only-of-type {\n",
       "        vertical-align: middle;\n",
       "    }\n",
       "\n",
       "    .dataframe tbody tr th {\n",
       "        vertical-align: top;\n",
       "    }\n",
       "\n",
       "    .dataframe thead th {\n",
       "        text-align: right;\n",
       "    }\n",
       "</style>\n",
       "<table border=\"1\" class=\"dataframe\">\n",
       "  <thead>\n",
       "    <tr style=\"text-align: right;\">\n",
       "      <th></th>\n",
       "      <th>k</th>\n",
       "      <th>Sklearn accuracy</th>\n",
       "      <th>Sklearn time</th>\n",
       "    </tr>\n",
       "  </thead>\n",
       "  <tbody>\n",
       "    <tr>\n",
       "      <th>0</th>\n",
       "      <td>2</td>\n",
       "      <td>0.982222</td>\n",
       "      <td>0.334913</td>\n",
       "    </tr>\n",
       "    <tr>\n",
       "      <th>1</th>\n",
       "      <td>3</td>\n",
       "      <td>0.982222</td>\n",
       "      <td>0.049402</td>\n",
       "    </tr>\n",
       "    <tr>\n",
       "      <th>2</th>\n",
       "      <td>5</td>\n",
       "      <td>0.977778</td>\n",
       "      <td>0.050367</td>\n",
       "    </tr>\n",
       "    <tr>\n",
       "      <th>3</th>\n",
       "      <td>7</td>\n",
       "      <td>0.968889</td>\n",
       "      <td>0.046942</td>\n",
       "    </tr>\n",
       "    <tr>\n",
       "      <th>4</th>\n",
       "      <td>8</td>\n",
       "      <td>0.968889</td>\n",
       "      <td>0.050594</td>\n",
       "    </tr>\n",
       "    <tr>\n",
       "      <th>5</th>\n",
       "      <td>10</td>\n",
       "      <td>0.964444</td>\n",
       "      <td>0.049695</td>\n",
       "    </tr>\n",
       "    <tr>\n",
       "      <th>6</th>\n",
       "      <td>11</td>\n",
       "      <td>0.966667</td>\n",
       "      <td>0.046783</td>\n",
       "    </tr>\n",
       "  </tbody>\n",
       "</table>\n",
       "</div>"
      ],
      "text/plain": [
       "    k  Sklearn accuracy  Sklearn time\n",
       "0   2          0.982222      0.334913\n",
       "1   3          0.982222      0.049402\n",
       "2   5          0.977778      0.050367\n",
       "3   7          0.968889      0.046942\n",
       "4   8          0.968889      0.050594\n",
       "5  10          0.964444      0.049695\n",
       "6  11          0.966667      0.046783"
      ]
     },
     "execution_count": 21,
     "metadata": {},
     "output_type": "execute_result"
    }
   ],
   "source": [
    "sk_results = []\n",
    "sk_time = []\n",
    "\n",
    "for i in k:\n",
    "    start_time = time.time()\n",
    "    sklearn_classifier = KNeighborsClassifier(n_neighbors=i).fit(X_train, y_train)\n",
    "    sklearn_accuracy = sklearn_classifier.score(X_test, y_test)\n",
    "    end_time = time.time()\n",
    "    sk_time.append(end_time - start_time)\n",
    "\n",
    "    sk_results.append(sklearn_accuracy)\n",
    "\n",
    "data = {'k': k, 'Sklearn accuracy': sk_results, 'Sklearn time': sk_time}\n",
    "\n",
    "pd.DataFrame(data)"
   ]
  },
  {
   "attachments": {},
   "cell_type": "markdown",
   "metadata": {},
   "source": [
    "## 4.2.7."
   ]
  },
  {
   "cell_type": "code",
   "execution_count": 22,
   "metadata": {},
   "outputs": [
    {
     "data": {
      "text/html": [
       "<div>\n",
       "<style scoped>\n",
       "    .dataframe tbody tr th:only-of-type {\n",
       "        vertical-align: middle;\n",
       "    }\n",
       "\n",
       "    .dataframe tbody tr th {\n",
       "        vertical-align: top;\n",
       "    }\n",
       "\n",
       "    .dataframe thead th {\n",
       "        text-align: right;\n",
       "    }\n",
       "</style>\n",
       "<table border=\"1\" class=\"dataframe\">\n",
       "  <thead>\n",
       "    <tr style=\"text-align: right;\">\n",
       "      <th></th>\n",
       "      <th>k</th>\n",
       "      <th>Cosine accuracy (our)</th>\n",
       "      <th>Sklearn accuracy</th>\n",
       "      <th>Cosine time</th>\n",
       "      <th>Sklearn time</th>\n",
       "    </tr>\n",
       "  </thead>\n",
       "  <tbody>\n",
       "    <tr>\n",
       "      <th>0</th>\n",
       "      <td>2</td>\n",
       "      <td>0.986667</td>\n",
       "      <td>0.982222</td>\n",
       "      <td>0.741149</td>\n",
       "      <td>0.334913</td>\n",
       "    </tr>\n",
       "    <tr>\n",
       "      <th>1</th>\n",
       "      <td>3</td>\n",
       "      <td>0.980000</td>\n",
       "      <td>0.982222</td>\n",
       "      <td>0.714187</td>\n",
       "      <td>0.049402</td>\n",
       "    </tr>\n",
       "    <tr>\n",
       "      <th>2</th>\n",
       "      <td>5</td>\n",
       "      <td>0.982222</td>\n",
       "      <td>0.977778</td>\n",
       "      <td>0.589875</td>\n",
       "      <td>0.050367</td>\n",
       "    </tr>\n",
       "    <tr>\n",
       "      <th>3</th>\n",
       "      <td>7</td>\n",
       "      <td>0.986667</td>\n",
       "      <td>0.968889</td>\n",
       "      <td>0.619639</td>\n",
       "      <td>0.046942</td>\n",
       "    </tr>\n",
       "    <tr>\n",
       "      <th>4</th>\n",
       "      <td>8</td>\n",
       "      <td>0.977778</td>\n",
       "      <td>0.968889</td>\n",
       "      <td>0.560035</td>\n",
       "      <td>0.050594</td>\n",
       "    </tr>\n",
       "    <tr>\n",
       "      <th>5</th>\n",
       "      <td>10</td>\n",
       "      <td>0.975556</td>\n",
       "      <td>0.964444</td>\n",
       "      <td>0.550872</td>\n",
       "      <td>0.049695</td>\n",
       "    </tr>\n",
       "    <tr>\n",
       "      <th>6</th>\n",
       "      <td>11</td>\n",
       "      <td>0.977778</td>\n",
       "      <td>0.966667</td>\n",
       "      <td>0.476423</td>\n",
       "      <td>0.046783</td>\n",
       "    </tr>\n",
       "  </tbody>\n",
       "</table>\n",
       "</div>"
      ],
      "text/plain": [
       "    k  Cosine accuracy (our)  Sklearn accuracy  Cosine time  Sklearn time\n",
       "0   2               0.986667          0.982222     0.741149      0.334913\n",
       "1   3               0.980000          0.982222     0.714187      0.049402\n",
       "2   5               0.982222          0.977778     0.589875      0.050367\n",
       "3   7               0.986667          0.968889     0.619639      0.046942\n",
       "4   8               0.977778          0.968889     0.560035      0.050594\n",
       "5  10               0.975556          0.964444     0.550872      0.049695\n",
       "6  11               0.977778          0.966667     0.476423      0.046783"
      ]
     },
     "execution_count": 22,
     "metadata": {},
     "output_type": "execute_result"
    }
   ],
   "source": [
    "data = {'k': k, 'Cosine accuracy (our)': cosine_results, 'Sklearn accuracy': sk_results, 'Cosine time': cosine_time, 'Sklearn time': sk_time}\n",
    "pd.DataFrame(data)"
   ]
  },
  {
   "attachments": {},
   "cell_type": "markdown",
   "metadata": {},
   "source": [
    "## 4.2.8."
   ]
  },
  {
   "cell_type": "code",
   "execution_count": 23,
   "metadata": {},
   "outputs": [],
   "source": [
    "from PIL import Image\n",
    "import numpy as np\n",
    "\n",
    "nums = [0,1,6,7,8,9]\n",
    "imgs = []\n",
    "\n",
    "for n in nums:\n",
    "    img = Image.open(str(n) + '.jpg').convert('L')\n",
    "    imgs.append([np.array(img).flatten()])\n"
   ]
  },
  {
   "cell_type": "code",
   "execution_count": 24,
   "metadata": {},
   "outputs": [
    {
     "name": "stdout",
     "output_type": "stream",
     "text": [
      "Our classifier (distance = cosine_distance):\n",
      "\n",
      "\tReal number:  0 \tPrediction:  [0]\n",
      "\tReal number:  1 \tPrediction:  [1]\n",
      "\tReal number:  6 \tPrediction:  [6]\n",
      "\tReal number:  7 \tPrediction:  [7]\n",
      "\tReal number:  8 \tPrediction:  [8]\n",
      "\tReal number:  9 \tPrediction:  [9]\n",
      "\n",
      "Sklearn classifier:\n",
      "\n",
      "\tReal number:  0 \tPrediction:  [0]\n",
      "\tReal number:  1 \tPrediction:  [1]\n",
      "\tReal number:  6 \tPrediction:  [6]\n",
      "\tReal number:  7 \tPrediction:  [1]\n",
      "\tReal number:  8 \tPrediction:  [8]\n",
      "\tReal number:  9 \tPrediction:  [9]\n"
     ]
    }
   ],
   "source": [
    "X = digits.data\n",
    "y = digits.target\n",
    "\n",
    "if isinstance(X, pd.DataFrame):\n",
    "    X = X.to_numpy()\n",
    "    y = y.to_numpy()\n",
    "\n",
    "X_train, X_test, y_train, y_test = train_test_split(X, y, test_size=0.25, random_state=45)\n",
    "our_classifier = KNearestNeighbors(X_train, y_train, n_neighbors=3, weights='distance', n_classes=10)\n",
    "\n",
    "contador = 0\n",
    "\n",
    "print(\"Our classifier (distance = cosine_distance):\\n\")\n",
    "for img in imgs:\n",
    "    num_class = our_classifier.predict(img)\n",
    "    print(\"\\tReal number: \", nums[contador], \"\\tPrediction: \",num_class)\n",
    "    contador += 1\n",
    "\n",
    "contador = 0\n",
    "print(\"\\nSklearn classifier:\\n\")\n",
    "sklearn_classifier = KNeighborsClassifier(n_neighbors=3).fit(X_train, y_train)\n",
    "\n",
    "for img in imgs:\n",
    "    num_class = sklearn_classifier.predict(img)\n",
    "    print(\"\\tReal number: \", nums[contador], \"\\tPrediction: \",num_class)\n",
    "    contador += 1"
   ]
  },
  {
   "attachments": {},
   "cell_type": "markdown",
   "metadata": {},
   "source": [
    "<h5> Se puede notar que nuestra implementación es capaz de predecir el 7 mientras que el clasificador de Sklearn lo predice como un 1, esto puede deberse a que la distancia entre los cosenos es una mejor forma de predecir para este caso específico.\n",
    "<h5>"
   ]
  }
 ],
 "metadata": {
  "kernelspec": {
   "display_name": "Python 3 (ipykernel)",
   "language": "python",
   "name": "python3"
  },
  "language_info": {
   "codemirror_mode": {
    "name": "ipython",
    "version": 3
   },
   "file_extension": ".py",
   "mimetype": "text/x-python",
   "name": "python",
   "nbconvert_exporter": "python",
   "pygments_lexer": "ipython3",
   "version": "3.10.10"
  }
 },
 "nbformat": 4,
 "nbformat_minor": 4
}
