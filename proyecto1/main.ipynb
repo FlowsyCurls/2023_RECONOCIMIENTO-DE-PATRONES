{
 "cells": [
  {
   "attachments": {},
   "cell_type": "markdown",
   "id": "2fd44a02",
   "metadata": {},
   "source": [
    "# Proyecto 1\n",
    "### Explorando los Algoritmos de Aprendizaje Supervisado\n",
    "\n",
    "Estudiantes: \n",
    "\n",
    "Carlos Adrián Araya Ramírez---------2018319701\n",
    "\n",
    "Michael Shakime Richards Sparks----2018170667"
   ]
  },
  {
   "cell_type": "code",
   "execution_count": 40,
   "id": "fe641ec2",
   "metadata": {},
   "outputs": [],
   "source": [
    "import numpy as np\n",
    "import pandas as pd\n",
    "import matplotlib.pyplot as plt\n",
    "import sklearn.datasets as datasets\n",
    "import seaborn as sns\n"
   ]
  },
  {
   "cell_type": "markdown",
   "id": "d1595594",
   "metadata": {},
   "source": [
    "# ANALISIS"
   ]
  },
  {
   "cell_type": "code",
   "execution_count": null,
   "id": "5ebadb74",
   "metadata": {},
   "outputs": [],
   "source": [
    "# Load the winequality-red dataset\n",
    "df = pd.read_csv(\"datasets/winequality-red.csv\")\n",
    "print(df.describe())"
   ]
  },
  {
   "cell_type": "code",
   "execution_count": null,
   "id": "b4cd93ae",
   "metadata": {},
   "outputs": [],
   "source": [
    "# Calculate the correlation matrix\n",
    "corr_matrix = df.corr()\n",
    "print(corr_matrix)"
   ]
  },
  {
   "attachments": {},
   "cell_type": "markdown",
   "id": "13b2d2b5",
   "metadata": {},
   "source": [
    "# VISUALIZACIÓN"
   ]
  },
  {
   "cell_type": "code",
   "execution_count": null,
   "metadata": {},
   "outputs": [],
   "source": [
    "# Visualize the correlation matrix as a heatmap\n",
    "sns.heatmap(corr_matrix, annot=False, cmap='RdYlBu')"
   ]
  },
  {
   "cell_type": "code",
   "execution_count": null,
   "id": "2ab14c62",
   "metadata": {},
   "outputs": [],
   "source": [
    "# Get the list of features\n",
    "features = df.columns[:-1]\n",
    "\n",
    "# Define colors for each quality value\n",
    "colors = {3: 'red', 4: 'orange', 5: 'yellow', 6: 'green', 7: 'blue', 8: 'purple'}\n",
    "\n",
    "# Create a box plot for each feature\n",
    "for feature in features:\n",
    "    # Create a new figure and axis for each feature\n",
    "    fig, ax = plt.subplots(figsize=(6, 4))\n",
    "    \n",
    "    # Loop through each quality value and plot the box\n",
    "    for quality in sorted(df['quality'].unique()):\n",
    "        box_color = colors[quality]  # Get the color for this quality value\n",
    "        data = df[df['quality'] == quality][feature]  # Get the data for this quality value\n",
    "        ax.boxplot(data, positions=[quality], widths=0.6, showfliers=True, patch_artist=True, boxprops=dict(facecolor=box_color))\n",
    "    \n",
    "    # Set the title and axis labels\n",
    "    plt.title(\"Box Plot of Wine Quality by \" + feature)\n",
    "    plt.xlabel(\"Quality\")\n",
    "    plt.ylabel(feature)\n",
    "    \n",
    "    # Set the x-axis limits and ticks\n",
    "    ax.set_xlim(2.5, 8.5)\n",
    "    ax.set_xticks(range(3, 9))\n",
    "    ax.set_xticklabels(range(3, 9))\n",
    "    \n",
    "    # Remove the grid lines\n",
    "    ax.grid(False)\n",
    "    \n",
    "    # Show the plot\n",
    "    plt.show()"
   ]
  },
  {
   "cell_type": "markdown",
   "id": "5f287341",
   "metadata": {},
   "source": [
    "# Normalización"
   ]
  },
  {
   "cell_type": "code",
   "execution_count": 63,
   "id": "15401200",
   "metadata": {},
   "outputs": [
    {
     "name": "stdout",
     "output_type": "stream",
     "text": [
      "       fixed acidity  volatile acidity  citric acid  residual sugar   \n",
      "count    1179.000000       1179.000000  1179.000000     1179.000000  \\\n",
      "mean        0.425278          0.455442     0.338027        0.410588   \n",
      "std         0.202538          0.185572     0.245809        0.183738   \n",
      "min         0.000000          0.000000     0.000000        0.000000   \n",
      "25%         0.277778          0.305085     0.109589        0.291667   \n",
      "50%         0.375000          0.451977     0.328767        0.375000   \n",
      "75%         0.541667          0.576271     0.534247        0.541667   \n",
      "max         1.000000          1.000000     1.000000        1.000000   \n",
      "\n",
      "         chlorides  free sulfur dioxide  total sulfur dioxide      density   \n",
      "count  1179.000000          1179.000000           1179.000000  1179.000000  \\\n",
      "mean      0.481873             0.341960              0.312655     0.488861   \n",
      "std       0.183553             0.214461              0.225055     0.184419   \n",
      "min       0.000000             0.000000              0.000000     0.000000   \n",
      "25%       0.358974             0.170732              0.137931     0.365741   \n",
      "50%       0.474359             0.292683              0.258621     0.490741   \n",
      "75%       0.589744             0.463415              0.431034     0.606481   \n",
      "max       1.000000             1.000000              1.000000     1.000000   \n",
      "\n",
      "                pH    sulphates      alcohol      quality  \n",
      "count  1179.000000  1179.000000  1179.000000  1179.000000  \n",
      "mean      0.519760     0.463483     0.351232     0.541137  \n",
      "std       0.178015     0.178613     0.205097     0.240416  \n",
      "min       0.000000     0.000000     0.000000     0.000000  \n",
      "25%       0.391892     0.338462     0.170213     0.333333  \n",
      "50%       0.527027     0.430769     0.297872     0.666667  \n",
      "75%       0.635135     0.569231     0.489362     0.666667  \n",
      "max       1.000000     1.000000     1.000000     1.000000  \n"
     ]
    }
   ],
   "source": [
    "from sklearn.preprocessing import MinMaxScaler\n",
    "\n",
    "\"\"\" Outliers can skew the mean and standard deviation, resulting in normalization that \n",
    "is not representative of the majority of the data points. \"\"\"\n",
    "\n",
    "# Get the interquartile range for each column\n",
    "Q1 = df.quantile(0.25)\n",
    "Q3 = df.quantile(0.75)\n",
    "IQR = Q3 - Q1\n",
    "\n",
    "# Get the lower and upper bounds for each column\n",
    "lower = Q1 - 1.5 * IQR\n",
    "upper = Q3 + 1.5 * IQR\n",
    "\n",
    "# Replace the values that are outside the interquartile range with the respective bound\n",
    "# df_iqr = df.clip(lower=lower, upper=upper, axis=1)\n",
    "\n",
    "# Remove the values that are outside the interquartile range\n",
    "df_iqr = df[(df >= lower) & (df <= upper)].dropna()\n",
    "\n",
    "\"\"\" Normalize using MinMaxScaler method. \"\"\"\n",
    "\n",
    "# Initialize the MinMaxScaler object\n",
    "scaler = MinMaxScaler()\n",
    "\n",
    "# Fit the scaler to the df_iqr dataset\n",
    "scaler.fit(df_iqr)\n",
    "\n",
    "# Transform the df_iqr dataset using the scaler\n",
    "df_normalized = pd.DataFrame(scaler.transform(df_iqr), columns=df_iqr.columns)\n",
    "print(df_normalized.describe())"
   ]
  }
 ],
 "metadata": {
  "kernelspec": {
   "display_name": "Python 3 (ipykernel)",
   "language": "python",
   "name": "python3"
  },
  "language_info": {
   "codemirror_mode": {
    "name": "ipython",
    "version": 3
   },
   "file_extension": ".py",
   "mimetype": "text/x-python",
   "name": "python",
   "nbconvert_exporter": "python",
   "pygments_lexer": "ipython3",
   "version": "3.11.2"
  }
 },
 "nbformat": 4,
 "nbformat_minor": 5
}
