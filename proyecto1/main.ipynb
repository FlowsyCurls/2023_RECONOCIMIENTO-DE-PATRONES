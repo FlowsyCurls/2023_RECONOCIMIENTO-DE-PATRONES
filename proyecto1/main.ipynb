{
 "cells": [
  {
   "attachments": {},
   "cell_type": "markdown",
   "id": "2fd44a02",
   "metadata": {},
   "source": [
    "# Proyecto 1\n",
    "### Explorando los Algoritmos de Aprendizaje Supervisado\n",
    "\n",
    "Estudiantes: \n",
    "\n",
    "Carlos Adrián Araya Ramírez---------2018319701\n",
    "\n",
    "Michael Shakime Richards Sparks----2018170667"
   ]
  },
  {
   "cell_type": "code",
   "execution_count": 1,
   "id": "fe641ec2",
   "metadata": {},
   "outputs": [],
   "source": [
    "import numpy as np\n",
    "import pandas as pd\n",
    "import matplotlib.pyplot as plt\n",
    "import sklearn.datasets as datasets\n",
    "import seaborn as sns\n"
   ]
  },
  {
   "attachments": {},
   "cell_type": "markdown",
   "id": "d1595594",
   "metadata": {},
   "source": [
    "# ANÁLISIS"
   ]
  },
  {
   "cell_type": "code",
   "execution_count": 2,
   "id": "5ebadb74",
   "metadata": {},
   "outputs": [
    {
     "data": {
      "text/html": [
       "<div>\n",
       "<style scoped>\n",
       "    .dataframe tbody tr th:only-of-type {\n",
       "        vertical-align: middle;\n",
       "    }\n",
       "\n",
       "    .dataframe tbody tr th {\n",
       "        vertical-align: top;\n",
       "    }\n",
       "\n",
       "    .dataframe thead th {\n",
       "        text-align: right;\n",
       "    }\n",
       "</style>\n",
       "<table border=\"1\" class=\"dataframe\">\n",
       "  <thead>\n",
       "    <tr style=\"text-align: right;\">\n",
       "      <th></th>\n",
       "      <th>fixed acidity</th>\n",
       "      <th>volatile acidity</th>\n",
       "      <th>citric acid</th>\n",
       "      <th>residual sugar</th>\n",
       "      <th>chlorides</th>\n",
       "      <th>free sulfur dioxide</th>\n",
       "      <th>total sulfur dioxide</th>\n",
       "      <th>density</th>\n",
       "      <th>pH</th>\n",
       "      <th>sulphates</th>\n",
       "      <th>alcohol</th>\n",
       "      <th>quality</th>\n",
       "    </tr>\n",
       "  </thead>\n",
       "  <tbody>\n",
       "    <tr>\n",
       "      <th>count</th>\n",
       "      <td>1599.000000</td>\n",
       "      <td>1599.000000</td>\n",
       "      <td>1599.000000</td>\n",
       "      <td>1599.000000</td>\n",
       "      <td>1599.000000</td>\n",
       "      <td>1599.000000</td>\n",
       "      <td>1599.000000</td>\n",
       "      <td>1599.000000</td>\n",
       "      <td>1599.000000</td>\n",
       "      <td>1599.000000</td>\n",
       "      <td>1599.000000</td>\n",
       "      <td>1599.000000</td>\n",
       "    </tr>\n",
       "    <tr>\n",
       "      <th>mean</th>\n",
       "      <td>8.319637</td>\n",
       "      <td>0.527821</td>\n",
       "      <td>0.270976</td>\n",
       "      <td>2.538806</td>\n",
       "      <td>0.087467</td>\n",
       "      <td>15.874922</td>\n",
       "      <td>46.467792</td>\n",
       "      <td>0.996747</td>\n",
       "      <td>3.311113</td>\n",
       "      <td>0.658149</td>\n",
       "      <td>10.422983</td>\n",
       "      <td>5.636023</td>\n",
       "    </tr>\n",
       "    <tr>\n",
       "      <th>std</th>\n",
       "      <td>1.741096</td>\n",
       "      <td>0.179060</td>\n",
       "      <td>0.194801</td>\n",
       "      <td>1.409928</td>\n",
       "      <td>0.047065</td>\n",
       "      <td>10.460157</td>\n",
       "      <td>32.895324</td>\n",
       "      <td>0.001887</td>\n",
       "      <td>0.154386</td>\n",
       "      <td>0.169507</td>\n",
       "      <td>1.065668</td>\n",
       "      <td>0.807569</td>\n",
       "    </tr>\n",
       "    <tr>\n",
       "      <th>min</th>\n",
       "      <td>4.600000</td>\n",
       "      <td>0.120000</td>\n",
       "      <td>0.000000</td>\n",
       "      <td>0.900000</td>\n",
       "      <td>0.012000</td>\n",
       "      <td>1.000000</td>\n",
       "      <td>6.000000</td>\n",
       "      <td>0.990070</td>\n",
       "      <td>2.740000</td>\n",
       "      <td>0.330000</td>\n",
       "      <td>8.400000</td>\n",
       "      <td>3.000000</td>\n",
       "    </tr>\n",
       "    <tr>\n",
       "      <th>25%</th>\n",
       "      <td>7.100000</td>\n",
       "      <td>0.390000</td>\n",
       "      <td>0.090000</td>\n",
       "      <td>1.900000</td>\n",
       "      <td>0.070000</td>\n",
       "      <td>7.000000</td>\n",
       "      <td>22.000000</td>\n",
       "      <td>0.995600</td>\n",
       "      <td>3.210000</td>\n",
       "      <td>0.550000</td>\n",
       "      <td>9.500000</td>\n",
       "      <td>5.000000</td>\n",
       "    </tr>\n",
       "    <tr>\n",
       "      <th>50%</th>\n",
       "      <td>7.900000</td>\n",
       "      <td>0.520000</td>\n",
       "      <td>0.260000</td>\n",
       "      <td>2.200000</td>\n",
       "      <td>0.079000</td>\n",
       "      <td>14.000000</td>\n",
       "      <td>38.000000</td>\n",
       "      <td>0.996750</td>\n",
       "      <td>3.310000</td>\n",
       "      <td>0.620000</td>\n",
       "      <td>10.200000</td>\n",
       "      <td>6.000000</td>\n",
       "    </tr>\n",
       "    <tr>\n",
       "      <th>75%</th>\n",
       "      <td>9.200000</td>\n",
       "      <td>0.640000</td>\n",
       "      <td>0.420000</td>\n",
       "      <td>2.600000</td>\n",
       "      <td>0.090000</td>\n",
       "      <td>21.000000</td>\n",
       "      <td>62.000000</td>\n",
       "      <td>0.997835</td>\n",
       "      <td>3.400000</td>\n",
       "      <td>0.730000</td>\n",
       "      <td>11.100000</td>\n",
       "      <td>6.000000</td>\n",
       "    </tr>\n",
       "    <tr>\n",
       "      <th>max</th>\n",
       "      <td>15.900000</td>\n",
       "      <td>1.580000</td>\n",
       "      <td>1.000000</td>\n",
       "      <td>15.500000</td>\n",
       "      <td>0.611000</td>\n",
       "      <td>72.000000</td>\n",
       "      <td>289.000000</td>\n",
       "      <td>1.003690</td>\n",
       "      <td>4.010000</td>\n",
       "      <td>2.000000</td>\n",
       "      <td>14.900000</td>\n",
       "      <td>8.000000</td>\n",
       "    </tr>\n",
       "  </tbody>\n",
       "</table>\n",
       "</div>"
      ],
      "text/plain": [
       "       fixed acidity  volatile acidity  citric acid  residual sugar  \\\n",
       "count    1599.000000       1599.000000  1599.000000     1599.000000   \n",
       "mean        8.319637          0.527821     0.270976        2.538806   \n",
       "std         1.741096          0.179060     0.194801        1.409928   \n",
       "min         4.600000          0.120000     0.000000        0.900000   \n",
       "25%         7.100000          0.390000     0.090000        1.900000   \n",
       "50%         7.900000          0.520000     0.260000        2.200000   \n",
       "75%         9.200000          0.640000     0.420000        2.600000   \n",
       "max        15.900000          1.580000     1.000000       15.500000   \n",
       "\n",
       "         chlorides  free sulfur dioxide  total sulfur dioxide      density  \\\n",
       "count  1599.000000          1599.000000           1599.000000  1599.000000   \n",
       "mean      0.087467            15.874922             46.467792     0.996747   \n",
       "std       0.047065            10.460157             32.895324     0.001887   \n",
       "min       0.012000             1.000000              6.000000     0.990070   \n",
       "25%       0.070000             7.000000             22.000000     0.995600   \n",
       "50%       0.079000            14.000000             38.000000     0.996750   \n",
       "75%       0.090000            21.000000             62.000000     0.997835   \n",
       "max       0.611000            72.000000            289.000000     1.003690   \n",
       "\n",
       "                pH    sulphates      alcohol      quality  \n",
       "count  1599.000000  1599.000000  1599.000000  1599.000000  \n",
       "mean      3.311113     0.658149    10.422983     5.636023  \n",
       "std       0.154386     0.169507     1.065668     0.807569  \n",
       "min       2.740000     0.330000     8.400000     3.000000  \n",
       "25%       3.210000     0.550000     9.500000     5.000000  \n",
       "50%       3.310000     0.620000    10.200000     6.000000  \n",
       "75%       3.400000     0.730000    11.100000     6.000000  \n",
       "max       4.010000     2.000000    14.900000     8.000000  "
      ]
     },
     "execution_count": 2,
     "metadata": {},
     "output_type": "execute_result"
    }
   ],
   "source": [
    "# Load the winequality-red dataset\n",
    "df = pd.read_csv(\"datasets/winequality-red.csv\")\n",
    "df.describe()"
   ]
  },
  {
   "cell_type": "code",
   "execution_count": 3,
   "id": "b4cd93ae",
   "metadata": {},
   "outputs": [
    {
     "data": {
      "text/plain": [
       "<AxesSubplot:>"
      ]
     },
     "execution_count": 3,
     "metadata": {},
     "output_type": "execute_result"
    },
    {
     "data": {
      "image/png": "[encoded data removed]",
      "text/plain": [
       "<Figure size 432x288 with 2 Axes>"
      ]
     },
     "metadata": {
      "needs_background": "light"
     },
     "output_type": "display_data"
    }
   ],
   "source": [
    "# Calculate the correlation matrix\n",
    "corr_matrix = df.corr()\n",
    "\n",
    "# Visualize the correlation matrix as a heatmap\n",
    "sns.heatmap(corr_matrix, annot=False, cmap='RdYlBu')"
   ]
  },
  {
   "cell_type": "code",
   "execution_count": 4,
   "id": "2ab14c62",
   "metadata": {},
   "outputs": [
    {
     "name": "stdout",
     "output_type": "stream",
     "text": [
      "fixed acidity\n",
      "3\n",
      "red\n",
      "fixed acidity\n",
      "4\n",
      "orange\n",
      "fixed acidity\n",
      "5\n",
      "yellow\n",
      "fixed acidity\n",
      "6\n",
      "green\n",
      "fixed acidity\n",
      "7\n",
      "blue\n",
      "fixed acidity\n",
      "8\n",
      "purple\n"
     ]
    },
    {
     "data": {
      "image/png": "[encoded data removed]",
      "text/plain": [
       "<Figure size 432x288 with 1 Axes>"
      ]
     },
     "metadata": {
      "needs_background": "light"
     },
     "output_type": "display_data"
    },
    {
     "name": "stdout",
     "output_type": "stream",
     "text": [
      "volatile acidity\n",
      "3\n",
      "red\n",
      "volatile acidity\n",
      "4\n",
      "orange\n",
      "volatile acidity\n",
      "5\n",
      "yellow\n",
      "volatile acidity\n",
      "6\n",
      "green\n",
      "volatile acidity\n",
      "7\n",
      "blue\n",
      "volatile acidity\n",
      "8\n",
      "purple\n"
     ]
    },
    {
     "data": {
      "image/png": "[encoded data removed]",
      "text/plain": [
       "<Figure size 432x288 with 1 Axes>"
      ]
     },
     "metadata": {
      "needs_background": "light"
     },
     "output_type": "display_data"
    },
    {
     "name": "stdout",
     "output_type": "stream",
     "text": [
      "citric acid\n",
      "3\n",
      "red\n",
      "citric acid\n",
      "4\n",
      "orange\n",
      "citric acid\n",
      "5\n",
      "yellow\n",
      "citric acid\n",
      "6\n",
      "green\n",
      "citric acid\n",
      "7\n",
      "blue\n",
      "citric acid\n",
      "8\n",
      "purple\n"
     ]
    },
    {
     "data": {
      "image/png": "[encoded data removed]",
      "text/plain": [
       "<Figure size 432x288 with 1 Axes>"
      ]
     },
     "metadata": {
      "needs_background": "light"
     },
     "output_type": "display_data"
    },
    {
     "name": "stdout",
     "output_type": "stream",
     "text": [
      "residual sugar\n",
      "3\n",
      "red\n",
      "residual sugar\n",
      "4\n",
      "orange\n",
      "residual sugar\n",
      "5\n",
      "yellow\n",
      "residual sugar\n",
      "6\n",
      "green\n",
      "residual sugar\n",
      "7\n",
      "blue\n",
      "residual sugar\n",
      "8\n",
      "purple\n"
     ]
    },
    {
     "data": {
      "image/png": "[encoded data removed]",
      "text/plain": [
       "<Figure size 432x288 with 1 Axes>"
      ]
     },
     "metadata": {
      "needs_background": "light"
     },
     "output_type": "display_data"
    },
    {
     "name": "stdout",
     "output_type": "stream",
     "text": [
      "chlorides\n",
      "3\n",
      "red\n",
      "chlorides\n",
      "4\n",
      "orange\n",
      "chlorides\n",
      "5\n",
      "yellow\n",
      "chlorides\n",
      "6\n",
      "green\n",
      "chlorides\n",
      "7\n",
      "blue\n",
      "chlorides\n",
      "8\n",
      "purple\n"
     ]
    },
    {
     "data": {
      "image/png": "[encoded data removed]",
      "text/plain": [
       "<Figure size 432x288 with 1 Axes>"
      ]
     },
     "metadata": {
      "needs_background": "light"
     },
     "output_type": "display_data"
    },
    {
     "name": "stdout",
     "output_type": "stream",
     "text": [
      "free sulfur dioxide\n",
      "3\n",
      "red\n",
      "free sulfur dioxide\n",
      "4\n",
      "orange\n",
      "free sulfur dioxide\n",
      "5\n",
      "yellow\n",
      "free sulfur dioxide\n",
      "6\n",
      "green\n",
      "free sulfur dioxide\n",
      "7\n",
      "blue\n",
      "free sulfur dioxide\n",
      "8\n",
      "purple\n"
     ]
    },
    {
     "data": {
      "image/png": "[encoded data removed]",
      "text/plain": [
       "<Figure size 432x288 with 1 Axes>"
      ]
     },
     "metadata": {
      "needs_background": "light"
     },
     "output_type": "display_data"
    },
    {
     "name": "stdout",
     "output_type": "stream",
     "text": [
      "total sulfur dioxide\n",
      "3\n",
      "red\n",
      "total sulfur dioxide\n",
      "4\n",
      "orange\n",
      "total sulfur dioxide\n",
      "5\n",
      "yellow\n",
      "total sulfur dioxide\n",
      "6\n",
      "green\n",
      "total sulfur dioxide\n",
      "7\n",
      "blue\n",
      "total sulfur dioxide\n",
      "8\n",
      "purple\n"
     ]
    },
    {
     "data": {
      "image/png": "[encoded data removed]",
      "text/plain": [
       "<Figure size 432x288 with 1 Axes>"
      ]
     },
     "metadata": {
      "needs_background": "light"
     },
     "output_type": "display_data"
    },
    {
     "name": "stdout",
     "output_type": "stream",
     "text": [
      "density\n",
      "3\n",
      "red\n",
      "density\n",
      "4\n",
      "orange\n",
      "density\n",
      "5\n",
      "yellow\n",
      "density\n",
      "6\n",
      "green\n",
      "density\n",
      "7\n",
      "blue\n",
      "density\n",
      "8\n",
      "purple\n"
     ]
    },
    {
     "data": {
      "image/png": "[encoded data removed]",
      "text/plain": [
       "<Figure size 432x288 with 1 Axes>"
      ]
     },
     "metadata": {
      "needs_background": "light"
     },
     "output_type": "display_data"
    },
    {
     "name": "stdout",
     "output_type": "stream",
     "text": [
      "pH\n",
      "3\n",
      "red\n",
      "pH\n",
      "4\n",
      "orange\n",
      "pH\n",
      "5\n",
      "yellow\n",
      "pH\n",
      "6\n",
      "green\n",
      "pH\n",
      "7\n",
      "blue\n",
      "pH\n",
      "8\n",
      "purple\n"
     ]
    },
    {
     "data": {
      "image/png": "[encoded data removed]",
      "text/plain": [
       "<Figure size 432x288 with 1 Axes>"
      ]
     },
     "metadata": {
      "needs_background": "light"
     },
     "output_type": "display_data"
    },
    {
     "name": "stdout",
     "output_type": "stream",
     "text": [
      "sulphates\n",
      "3\n",
      "red\n",
      "sulphates\n",
      "4\n",
      "orange\n",
      "sulphates\n",
      "5\n",
      "yellow\n",
      "sulphates\n",
      "6\n",
      "green\n",
      "sulphates\n",
      "7\n",
      "blue\n",
      "sulphates\n",
      "8\n",
      "purple\n"
     ]
    },
    {
     "data": {
      "image/png": "[encoded data removed]",
      "text/plain": [
       "<Figure size 432x288 with 1 Axes>"
      ]
     },
     "metadata": {
      "needs_background": "light"
     },
     "output_type": "display_data"
    },
    {
     "name": "stdout",
     "output_type": "stream",
     "text": [
      "alcohol\n",
      "3\n",
      "red\n",
      "alcohol\n",
      "4\n",
      "orange\n",
      "alcohol\n",
      "5\n",
      "yellow\n",
      "alcohol\n",
      "6\n",
      "green\n",
      "alcohol\n",
      "7\n",
      "blue\n",
      "alcohol\n",
      "8\n",
      "purple\n"
     ]
    },
    {
     "data": {
      "image/png": "[encoded data removed]",
      "text/plain": [
       "<Figure size 432x288 with 1 Axes>"
      ]
     },
     "metadata": {
      "needs_background": "light"
     },
     "output_type": "display_data"
    }
   ],
   "source": [
    "# Get the list of features\n",
    "features = df.columns[:-1]\n",
    "\n",
    "# Define colors for each quality value\n",
    "colors = {3: 'red', 4: 'orange', 5: 'yellow', 6: 'green', 7: 'blue', 8: 'purple'}\n",
    "\n",
    "# Create a box plot for each feature\n",
    "for feature in features:\n",
    "    # Create a new figure and axis for each feature\n",
    "    fig, ax = plt.subplots(figsize=(6, 4))\n",
    "    \n",
    "    # Loop through each quality value and plot the box\n",
    "    for quality in sorted(df['quality'].unique()):\n",
    "        box_color = colors[quality]  # Get the color for this quality value\n",
    "        data = df[df['quality'] == quality][feature]  # Get the data for this quality value\n",
    "        ax.boxplot(data, positions=[quality], widths=0.6, showfliers=True, patch_artist=True, boxprops=dict(facecolor=box_color))\n",
    "    \n",
    "    # Set the title and axis labels\n",
    "    plt.title(\"Box Plot of Wine Quality by \" + feature)\n",
    "    plt.xlabel(\"Quality\")\n",
    "    plt.ylabel(feature)\n",
    "    \n",
    "    # Set the x-axis limits and ticks\n",
    "    ax.set_xlim(2.5, 8.5)\n",
    "    ax.set_xticks(range(3, 9))\n",
    "    ax.set_xticklabels(range(3, 9))\n",
    "    \n",
    "    # Remove the grid lines\n",
    "    ax.grid(False)\n",
    "    \n",
    "    # Show the plot\n",
    "    plt.show()"
   ]
  },
  {
   "attachments": {},
   "cell_type": "markdown",
   "id": "5f287341",
   "metadata": {},
   "source": [
    "# NORMALIZACIÓN"
   ]
  },
  {
   "cell_type": "code",
   "execution_count": 5,
   "id": "15401200",
   "metadata": {},
   "outputs": [],
   "source": [
    "from sklearn.preprocessing import MinMaxScaler\n",
    "\n",
    "\"\"\" Remove outliers, this values skew the mean and standard deviation, resulting in normalization that \n",
    "is not representative of the majority of the data points. \"\"\"\n",
    "\n",
    "# Get the interquartile range for each column\n",
    "Q1 = df.quantile(0.25)\n",
    "Q3 = df.quantile(0.75)\n",
    "IQR = Q3 - Q1\n",
    "\n",
    "# Get the lower and upper bounds for each column\n",
    "lower = Q1 - 1.5 * IQR\n",
    "upper = Q3 + 1.5 * IQR\n",
    "\n",
    "# Replace the values that are outside the interquartile range with the respective bound\n",
    "df_iqr = df.clip(lower=lower, upper=upper, axis=1)\n",
    "\n",
    "# Remove the values that are outside the interquartile range\n",
    "# df_iqr = df[(df >= lower) & (df <= upper)].dropna()\n",
    "\n",
    "\"\"\" Normalize using MinMaxScaler method. \"\"\"\n",
    "\n",
    "# Create a copy of the dataframe without the quality feature\n",
    "df_to_normalize = df_iqr.iloc[:, :-1]\n",
    "\n",
    "# Initialize the MinMaxScaler object\n",
    "scaler = MinMaxScaler()\n",
    "\n",
    "# Fit the scaler to the df_to_normalize dataset\n",
    "scaler.fit(df_to_normalize)\n",
    "\n",
    "# Transform the df_without_quality dataset using the scaler\n",
    "df_normalized = pd.DataFrame(scaler.transform(df_to_normalize), columns=df_to_normalize.columns)\n",
    "\n",
    "# Add the quality feature of the original dataframe to the normalized dataframe\n",
    "df_normalized['quality'] = df['quality']"
   ]
  },
  {
   "attachments": {},
   "cell_type": "markdown",
   "id": "2242f786",
   "metadata": {},
   "source": [
    "# PREPROCESAMIENTO"
   ]
  },
  {
   "cell_type": "code",
   "execution_count": 6,
   "id": "341bca14",
   "metadata": {},
   "outputs": [],
   "source": [
    "from collections import Counter\n",
    "from sklearn.calibration import LabelEncoder\n",
    "from sklearn.model_selection import train_test_split\n",
    "\n",
    "# Divides the \"quality\" column into two categories using bins and labels.\n",
    "bins = [2, 5.5, 8]\n",
    "labels = [\"MAL VINO\", \"BUEN VINO\"]\n",
    "df_normalized[\"quality\"] = pd.cut(df_normalized[\"quality\"], bins=bins, labels=labels)\n",
    "\n",
    "# # show the updated dataframe\n",
    "# print(df_normalized[\"quality\"].value_counts())\n",
    "# print()\n",
    "\n",
    "# Converting the categorical labels in the \"quality\" column of the normalized dataset to numerical values.\n",
    "lb = LabelEncoder()\n",
    "df_normalized[\"quality\"] = lb.fit_transform(df_normalized[\"quality\"])\n",
    "x = df_normalized.drop(\"quality\", axis=1)\n",
    "y = df_normalized[\"quality\"]\n",
    "\n",
    "# Splits the dataset into training and testing sets using train_test_split (stratifying based on the \"quality\" variable)\n",
    "X_train,X_test,y_train,y_test=train_test_split(x, y, test_size=0.15, random_state=21, stratify=y)"
   ]
  },
  {
   "attachments": {},
   "cell_type": "markdown",
   "id": "11fe8957",
   "metadata": {},
   "source": [
    "\n",
    "# MODELOS\n",
    "Evaluar de manera objetiva 3 algoritmos de aprendizaje supervisado"
   ]
  },
  {
   "attachments": {},
   "cell_type": "markdown",
   "id": "df994f1a",
   "metadata": {},
   "source": [
    "### REGRESIÓN LOGÍSTICA"
   ]
  },
  {
   "cell_type": "code",
   "execution_count": 7,
   "id": "ce01fa25",
   "metadata": {},
   "outputs": [
    {
     "name": "stdout",
     "output_type": "stream",
     "text": [
      "Best parameters:  {'C': 0.1}\n",
      "Best score:  0.7394996744085087\n"
     ]
    }
   ],
   "source": [
    "\"\"\" Find best params for the model using GridSearch \"\"\"\n",
    "\n",
    "from sklearn.linear_model import LogisticRegression\n",
    "from sklearn.model_selection import GridSearchCV\n",
    "\n",
    "# Define the hyperparameters to tune\n",
    "param_grid = {'C': [0.001, 0.01, 0.1, 1, 10, 100]}\n",
    "\n",
    "# Create an instance of the logistic regression model\n",
    "log_reg = LogisticRegression(max_iter=10000)\n",
    "\n",
    "# Create and fit GridSearchCV object to search for the best hyperparameters\n",
    "grid_search = GridSearchCV(log_reg, param_grid, cv=5).fit(X_train, y_train)\n",
    "best_params = grid_search.best_params_\n",
    "best_score = grid_search.best_score_\n",
    "\n",
    "# print the best parameters and the corresponding accuracy score\n",
    "print(\"Best parameters: \", best_params)\n",
    "print(\"Best score: \", best_score)\n"
   ]
  },
  {
   "cell_type": "code",
   "execution_count": 8,
   "id": "dbf1ce76",
   "metadata": {},
   "outputs": [
    {
     "data": {
      "text/html": [
       "<div>\n",
       "<style scoped>\n",
       "    .dataframe tbody tr th:only-of-type {\n",
       "        vertical-align: middle;\n",
       "    }\n",
       "\n",
       "    .dataframe tbody tr th {\n",
       "        vertical-align: top;\n",
       "    }\n",
       "\n",
       "    .dataframe thead th {\n",
       "        text-align: right;\n",
       "    }\n",
       "</style>\n",
       "<table border=\"1\" class=\"dataframe\">\n",
       "  <thead>\n",
       "    <tr style=\"text-align: right;\">\n",
       "      <th></th>\n",
       "      <th>Sklearn's model</th>\n",
       "      <th>Our model</th>\n",
       "    </tr>\n",
       "  </thead>\n",
       "  <tbody>\n",
       "    <tr>\n",
       "      <th>Accuracy</th>\n",
       "      <td>0.741667</td>\n",
       "      <td>10</td>\n",
       "    </tr>\n",
       "    <tr>\n",
       "      <th>Precision</th>\n",
       "      <td>0.715517</td>\n",
       "      <td>10</td>\n",
       "    </tr>\n",
       "    <tr>\n",
       "      <th>Recall</th>\n",
       "      <td>0.741071</td>\n",
       "      <td>10</td>\n",
       "    </tr>\n",
       "    <tr>\n",
       "      <th>AUC</th>\n",
       "      <td>0.741629</td>\n",
       "      <td>10</td>\n",
       "    </tr>\n",
       "  </tbody>\n",
       "</table>\n",
       "</div>"
      ],
      "text/plain": [
       "           Sklearn's model  Our model\n",
       "Accuracy          0.741667         10\n",
       "Precision         0.715517         10\n",
       "Recall            0.741071         10\n",
       "AUC               0.741629         10"
      ]
     },
     "execution_count": 8,
     "metadata": {},
     "output_type": "execute_result"
    }
   ],
   "source": [
    "from sklearn.metrics import classification_report, precision_score, recall_score, roc_curve, roc_auc_score\n",
    "\n",
    "# Create a new logistic regression model with the best parameters and make predictions\n",
    "sklearn_log_reg = LogisticRegression(C=best_params['C']).fit(X_train, y_train)\n",
    "y_pred_sklearn = sklearn_log_reg.predict(X_test)\n",
    "\n",
    "# Fit my model and make predictions\n",
    "# our_log_reg = OurLogisticRegression().fit(X_train, y_train)\n",
    "# y_pred_our_model = our_log_reg.predict(X_test)\n",
    "\n",
    "# Calculate sklearn accuracy, precision and recall\n",
    "sklearn_accuracy = sklearn_log_reg.score(X_test, y_test)\n",
    "sklearn_precision = precision_score(y_test, y_pred_sklearn)\n",
    "sklearn_recall = recall_score(y_test, y_pred_sklearn)\n",
    "sklearn_auc = roc_auc_score(y_test, y_pred_sklearn)\n",
    "\n",
    "# Calculate my model metrics\n",
    "our_model_accuracy = 10\n",
    "our_model_precision = 10\n",
    "our_model_recall = 10\n",
    "our_model_auc = 10\n",
    "\n",
    "# Create a dataframe with the metrics\n",
    "metrics = {\n",
    "    'Accuracy': [sklearn_accuracy, our_model_accuracy,],\n",
    "    'Precision': [ sklearn_precision, our_model_precision,],\n",
    "    'Recall': [sklearn_recall, our_model_recall, ],\n",
    "    'AUC': [sklearn_auc, our_model_auc, ]\n",
    "}\n",
    "pd.DataFrame.from_dict(metrics, orient='index', columns=[\"Sklearn's model\", 'Our model', ])"
   ]
  },
  {
   "cell_type": "code",
   "execution_count": 9,
   "id": "1591a77c",
   "metadata": {},
   "outputs": [
    {
     "name": "stdout",
     "output_type": "stream",
     "text": [
      "              precision    recall  f1-score   support\n",
      "\n",
      "           0       0.77      0.74      0.75       128\n",
      "           1       0.72      0.74      0.73       112\n",
      "\n",
      "    accuracy                           0.74       240\n",
      "   macro avg       0.74      0.74      0.74       240\n",
      "weighted avg       0.74      0.74      0.74       240\n",
      "\n"
     ]
    },
    {
     "data": {
      "image/png": "[encoded data removed]",
      "text/plain": [
       "<Figure size 432x288 with 1 Axes>"
      ]
     },
     "metadata": {
      "needs_background": "light"
     },
     "output_type": "display_data"
    }
   ],
   "source": [
    "# Printing stats \n",
    "print(classification_report(y_test, y_pred_sklearn))\n",
    "\n",
    "# Calculate and plot ROC curve and AUC\n",
    "y_prob = sklearn_log_reg.predict_proba(X_test)[:, 1]\n",
    "fpr, tpr, thresholds = roc_curve(y_test, y_prob)\n",
    "auc = roc_auc_score(y_test, y_prob)\n",
    "plt.plot(fpr, tpr, label=f'AUC = {auc:.4f}')\n",
    "plt.xlabel('False Positive Rate')\n",
    "plt.ylabel('True Positive Rate')\n",
    "plt.title('ROC Curve')\n",
    "plt.legend()\n",
    "plt.show()"
   ]
  },
  {
   "cell_type": "markdown",
   "id": "7b46b9b6",
   "metadata": {},
   "source": [
    "### ÁRBOL\n"
   ]
  },
  {
   "cell_type": "code",
   "execution_count": 10,
   "id": "abd56345",
   "metadata": {},
   "outputs": [
    {
     "name": "stdout",
     "output_type": "stream",
     "text": [
      "Best parameters:  {'max_depth': 40, 'min_samples_leaf': 1, 'min_samples_split': 4}\n",
      "Best score:  0.7490937703494682\n"
     ]
    }
   ],
   "source": [
    "\"\"\" Find best params for the model using GridSearch \"\"\"\n",
    "\n",
    "from sklearn.tree import DecisionTreeClassifier\n",
    "from sklearn.model_selection import GridSearchCV\n",
    "\n",
    "# Define the parameter grid for grid search\n",
    "param_grid = {'max_depth': [20, 30, 40, 50],\n",
    "              'min_samples_leaf': [1, 2, 4, 8],\n",
    "              'min_samples_split': [2, 4, 8, 16]}\n",
    "\n",
    "# Create a DecisionTreeClassifier instance\n",
    "tree = DecisionTreeClassifier()\n",
    "\n",
    "# Create and fit a GridSearchCV instance\n",
    "grid_search = GridSearchCV(estimator=tree, param_grid=param_grid, cv=5, n_jobs=-1).fit(X_train, y_train)\n",
    "best_params = grid_search.best_params_\n",
    "best_score = grid_search.best_score_\n",
    "\n",
    "# print the best parameters and the corresponding accuracy score\n",
    "print(\"Best parameters: \", best_params)\n",
    "print(\"Best score: \", best_score)\n"
   ]
  },
  {
   "cell_type": "code",
   "execution_count": 11,
   "id": "ad37bd69",
   "metadata": {},
   "outputs": [
    {
     "data": {
      "text/html": [
       "<div>\n",
       "<style scoped>\n",
       "    .dataframe tbody tr th:only-of-type {\n",
       "        vertical-align: middle;\n",
       "    }\n",
       "\n",
       "    .dataframe tbody tr th {\n",
       "        vertical-align: top;\n",
       "    }\n",
       "\n",
       "    .dataframe thead th {\n",
       "        text-align: right;\n",
       "    }\n",
       "</style>\n",
       "<table border=\"1\" class=\"dataframe\">\n",
       "  <thead>\n",
       "    <tr style=\"text-align: right;\">\n",
       "      <th></th>\n",
       "      <th>Sklearn's model</th>\n",
       "      <th>Our model</th>\n",
       "    </tr>\n",
       "  </thead>\n",
       "  <tbody>\n",
       "    <tr>\n",
       "      <th>Accuracy</th>\n",
       "      <td>0.779167</td>\n",
       "      <td>10</td>\n",
       "    </tr>\n",
       "    <tr>\n",
       "      <th>Precision</th>\n",
       "      <td>0.732283</td>\n",
       "      <td>10</td>\n",
       "    </tr>\n",
       "    <tr>\n",
       "      <th>Recall</th>\n",
       "      <td>0.830357</td>\n",
       "      <td>10</td>\n",
       "    </tr>\n",
       "    <tr>\n",
       "      <th>AUC</th>\n",
       "      <td>0.782366</td>\n",
       "      <td>10</td>\n",
       "    </tr>\n",
       "  </tbody>\n",
       "</table>\n",
       "</div>"
      ],
      "text/plain": [
       "           Sklearn's model  Our model\n",
       "Accuracy          0.779167         10\n",
       "Precision         0.732283         10\n",
       "Recall            0.830357         10\n",
       "AUC               0.782366         10"
      ]
     },
     "execution_count": 11,
     "metadata": {},
     "output_type": "execute_result"
    }
   ],
   "source": [
    "from sklearn.metrics import classification_report, precision_score, recall_score, roc_curve, roc_auc_score\n",
    "\n",
    "# Create a new decision tree model with the best parameters and make predictions\n",
    "sklearn_tree = DecisionTreeClassifier(max_depth=best_params['max_depth'], min_samples_leaf=best_params['min_samples_leaf']).fit(X_train, y_train)\n",
    "y_pred_sklearn = sklearn_tree.predict(X_test)\n",
    "\n",
    "# Fit my model and make predictions\n",
    "# our_tree = OurDecisionTree().fit(X_train, y_train)\n",
    "# y_pred_our_model = our_tree.predict(X_test)\n",
    "\n",
    "# Calculate sklearn accuracy, precision and recall\n",
    "sklearn_accuracy = sklearn_tree.score(X_test, y_test)\n",
    "sklearn_precision = precision_score(y_test, y_pred_sklearn)\n",
    "sklearn_recall = recall_score(y_test, y_pred_sklearn)\n",
    "sklearn_auc = roc_auc_score(y_test, y_pred_sklearn)\n",
    "\n",
    "# Calculate my model metrics\n",
    "our_model_accuracy = 10\n",
    "our_model_precision = 10\n",
    "our_model_recall = 10\n",
    "our_model_auc = 10\n",
    "\n",
    "# Create a dataframe with the metrics\n",
    "metrics = {\n",
    "    'Accuracy': [sklearn_accuracy, our_model_accuracy,],\n",
    "    'Precision': [ sklearn_precision, our_model_precision,],\n",
    "    'Recall': [sklearn_recall, our_model_recall, ],\n",
    "    'AUC': [sklearn_auc, our_model_auc, ]\n",
    "}\n",
    "pd.DataFrame.from_dict(metrics, orient='index', columns=[\"Sklearn's model\", 'Our model', ])\n"
   ]
  },
  {
   "cell_type": "code",
   "execution_count": 12,
   "metadata": {},
   "outputs": [
    {
     "name": "stdout",
     "output_type": "stream",
     "text": [
      "              precision    recall  f1-score   support\n",
      "\n",
      "           0       0.83      0.73      0.78       128\n",
      "           1       0.73      0.83      0.78       112\n",
      "\n",
      "    accuracy                           0.78       240\n",
      "   macro avg       0.78      0.78      0.78       240\n",
      "weighted avg       0.79      0.78      0.78       240\n",
      "\n"
     ]
    },
    {
     "data": {
      "image/png": "[encoded data removed]",
      "text/plain": [
       "<Figure size 432x288 with 1 Axes>"
      ]
     },
     "metadata": {
      "needs_background": "light"
     },
     "output_type": "display_data"
    }
   ],
   "source": [
    "# Printing stats \n",
    "print(classification_report(y_test, y_pred_sklearn))\n",
    "\n",
    "# Calculate and plot ROC curve and AUC\n",
    "y_prob = sklearn_tree.predict_proba(X_test)[:, 1]\n",
    "fpr, tpr, thresholds = roc_curve(y_test, y_prob)\n",
    "auc = roc_auc_score(y_test, y_prob)\n",
    "plt.plot(fpr, tpr, label=f'AUC = {auc:.4f}')\n",
    "plt.xlabel('False Positive Rate')\n",
    "plt.ylabel('True Positive Rate')\n",
    "plt.title('ROC Curve')\n",
    "plt.legend()\n",
    "plt.show()"
   ]
  },
  {
   "attachments": {},
   "cell_type": "markdown",
   "id": "296254bb",
   "metadata": {},
   "source": [
    "## KNN"
   ]
  },
  {
   "cell_type": "code",
   "execution_count": 13,
   "metadata": {},
   "outputs": [
    {
     "name": "stdout",
     "output_type": "stream",
     "text": [
      "Best parameters:  {'n_neighbors': 9, 'weights': 'distance'}\n",
      "Best score:  0.7770403733449099\n"
     ]
    }
   ],
   "source": [
    "\"\"\" Find best params for the model using GridSearch \"\"\"\n",
    "\n",
    "from sklearn.neighbors import KNeighborsClassifier\n",
    "from sklearn.model_selection import GridSearchCV\n",
    "\n",
    "# Define the parameter grid for grid search\n",
    "param_grid = {'n_neighbors': [3, 5, 7, 9, 11, 13], 'weights': ['uniform', 'distance']}\n",
    "\n",
    "# Create a KNeighborsClassifier instance\n",
    "knn = KNeighborsClassifier()\n",
    "\n",
    "# Create and fit a GridSearchCV instance\n",
    "grid_search = GridSearchCV(estimator=knn, param_grid=param_grid, cv=5, n_jobs=-1).fit(X_train, y_train)\n",
    "best_params = grid_search.best_params_\n",
    "best_score = grid_search.best_score_\n",
    "\n",
    "# Print the best parameters and the corresponding accuracy score\n",
    "print(\"Best parameters: \", best_params)\n",
    "print(\"Best score: \", best_score)"
   ]
  },
  {
   "cell_type": "code",
   "execution_count": 14,
   "id": "8010dbf4",
   "metadata": {},
   "outputs": [
    {
     "data": {
      "text/html": [
       "<div>\n",
       "<style scoped>\n",
       "    .dataframe tbody tr th:only-of-type {\n",
       "        vertical-align: middle;\n",
       "    }\n",
       "\n",
       "    .dataframe tbody tr th {\n",
       "        vertical-align: top;\n",
       "    }\n",
       "\n",
       "    .dataframe thead th {\n",
       "        text-align: right;\n",
       "    }\n",
       "</style>\n",
       "<table border=\"1\" class=\"dataframe\">\n",
       "  <thead>\n",
       "    <tr style=\"text-align: right;\">\n",
       "      <th></th>\n",
       "      <th>Sklearn's model</th>\n",
       "      <th>My model</th>\n",
       "    </tr>\n",
       "  </thead>\n",
       "  <tbody>\n",
       "    <tr>\n",
       "      <th>Accuracy</th>\n",
       "      <td>0.841667</td>\n",
       "      <td>10</td>\n",
       "    </tr>\n",
       "    <tr>\n",
       "      <th>Precision</th>\n",
       "      <td>0.836364</td>\n",
       "      <td>10</td>\n",
       "    </tr>\n",
       "    <tr>\n",
       "      <th>Recall</th>\n",
       "      <td>0.821429</td>\n",
       "      <td>10</td>\n",
       "    </tr>\n",
       "    <tr>\n",
       "      <th>AUC</th>\n",
       "      <td>0.840402</td>\n",
       "      <td>10</td>\n",
       "    </tr>\n",
       "  </tbody>\n",
       "</table>\n",
       "</div>"
      ],
      "text/plain": [
       "           Sklearn's model  My model\n",
       "Accuracy          0.841667        10\n",
       "Precision         0.836364        10\n",
       "Recall            0.821429        10\n",
       "AUC               0.840402        10"
      ]
     },
     "execution_count": 14,
     "metadata": {},
     "output_type": "execute_result"
    }
   ],
   "source": [
    "from sklearn.metrics import classification_report, precision_score, recall_score, roc_curve, roc_auc_score\n",
    "from sklearn.neighbors import KNeighborsClassifier\n",
    "\n",
    "# Create a new knn model with the best parameters and make predictions\n",
    "sklearn_knn = KNeighborsClassifier(n_neighbors=best_params['n_neighbors'], weights=best_params['weights']).fit(X_train, y_train)\n",
    "y_pred_sklearn = sklearn_knn.predict(X_test)\n",
    "\n",
    "# Fit my model and make predictions\n",
    "# our_knn = OurKNeighborsClassifier().fit(X_train, y_train)\n",
    "# y_pred_our_model = our_knn.predict(X_test)\n",
    "\n",
    "# Calculate sklearn accuracy, precision and recall\n",
    "sklearn_accuracy = sklearn_knn.score(X_test, y_test)\n",
    "sklearn_precision = precision_score(y_test, y_pred_sklearn)\n",
    "sklearn_recall = recall_score(y_test, y_pred_sklearn)\n",
    "sklearn_auc = roc_auc_score(y_test, y_pred_sklearn)\n",
    "\n",
    "# Calculate my model metrics\n",
    "our_model_accuracy = 10\n",
    "our_model_precision = 10\n",
    "our_model_recall = 10\n",
    "our_model_auc = 10\n",
    "\n",
    "# Create a dataframe with the metrics\n",
    "metrics = {\n",
    "    'Accuracy': [sklearn_accuracy, our_model_accuracy,],\n",
    "    'Precision': [ sklearn_precision, our_model_precision,],\n",
    "    'Recall': [sklearn_recall, our_model_recall, ],\n",
    "    'AUC': [sklearn_auc, our_model_auc, ]\n",
    "}\n",
    "pd.DataFrame.from_dict(metrics, orient='index', columns=[\"Sklearn's model\", 'My model', ])\n"
   ]
  },
  {
   "cell_type": "code",
   "execution_count": 15,
   "id": "3b49d1bd",
   "metadata": {},
   "outputs": [
    {
     "name": "stdout",
     "output_type": "stream",
     "text": [
      "              precision    recall  f1-score   support\n",
      "\n",
      "           0       0.85      0.86      0.85       128\n",
      "           1       0.84      0.82      0.83       112\n",
      "\n",
      "    accuracy                           0.84       240\n",
      "   macro avg       0.84      0.84      0.84       240\n",
      "weighted avg       0.84      0.84      0.84       240\n",
      "\n"
     ]
    },
    {
     "data": {
      "image/png": "[encoded data removed]",
      "text/plain": [
       "<Figure size 432x288 with 1 Axes>"
      ]
     },
     "metadata": {
      "needs_background": "light"
     },
     "output_type": "display_data"
    }
   ],
   "source": [
    "# Printing stats \n",
    "print(classification_report(y_test, y_pred_sklearn))\n",
    "\n",
    "# Calculate and plot ROC curve and AUC\n",
    "y_prob = sklearn_knn.predict_proba(X_test)[:, 1]\n",
    "fpr, tpr, thresholds = roc_curve(y_test, y_prob)\n",
    "auc = roc_auc_score(y_test, y_prob)\n",
    "plt.plot(fpr, tpr, label=f'AUC = {auc:.4f}')\n",
    "plt.xlabel('False Positive Rate')\n",
    "plt.ylabel('True Positive Rate')\n",
    "plt.title('ROC Curve')\n",
    "plt.legend()\n",
    "plt.show()"
   ]
  }
 ],
 "metadata": {
  "kernelspec": {
   "display_name": "Python 3 (ipykernel)",
   "language": "python",
   "name": "python3"
  },
  "language_info": {
   "codemirror_mode": {
    "name": "ipython",
    "version": 3
   },
   "file_extension": ".py",
   "mimetype": "text/x-python",
   "name": "python",
   "nbconvert_exporter": "python",
   "pygments_lexer": "ipython3",
   "version": "3.10.11"
  }
 },
 "nbformat": 4,
 "nbformat_minor": 5
}
