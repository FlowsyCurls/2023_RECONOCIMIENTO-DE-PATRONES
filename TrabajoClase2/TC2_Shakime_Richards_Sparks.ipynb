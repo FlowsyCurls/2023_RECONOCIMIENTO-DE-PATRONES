{
  "cells": [
    {
      "attachments": {},
      "cell_type": "markdown",
      "metadata": {},
      "source": [
        "# CE 5506 — Introducción al Reconocimiento de Patrones\n",
        "## Trabajo en Clase 2\n",
        "## Evaluando funciones de activación y redes neuronales\n",
        "### Shakime Richards Sparks\n",
        "### 2018170667"
      ]
    },
    {
      "cell_type": "code",
      "execution_count": 1,
      "metadata": {},
      "outputs": [],
      "source": [
        "import numpy as np\n",
        "import time\n",
        "import pandas as pd\n",
        "from sklearn.metrics import recall_score\n",
        "from sklearn.metrics import precision_score\n",
        "from sklearn.metrics import f1_score\n",
        "import numpy as np\n",
        "from sklearn.datasets import load_iris\n",
        "from sklearn.model_selection import train_test_split\n",
        "from matplotlib import pyplot as plt\n",
        "import pandas as pd\n",
        "\n",
        "import warnings\n",
        "warnings.filterwarnings(\"ignore\")"
      ]
    },
    {
      "attachments": {},
      "cell_type": "markdown",
      "metadata": {
        "id": "dyUxaGD48vZy"
      },
      "source": [
        "# Calculation of metrics for algorithms"
      ]
    },
    {
      "cell_type": "code",
      "execution_count": 2,
      "metadata": {
        "id": "N_ONQsyk8hif"
      },
      "outputs": [],
      "source": [
        "def calculate_recall(y_pred, y_prueba):\n",
        "    recall = recall_score(y_prueba, y_pred, average='macro')\n",
        "    return recall\n",
        "\n",
        "def calculate_accuracy(y_pred, y_prueba):\n",
        "    correct = np.sum(np.array(y_pred) == np.array(y_prueba))\n",
        "    total = len(y_prueba)\n",
        "    accuracy = correct / total\n",
        "    return accuracy\n",
        "\n",
        "def calculate_precision(y_pred, y_prueba):\n",
        "    precision = precision_score(y_prueba, y_pred, average='macro', zero_division=1)\n",
        "    return precision\n",
        "\n",
        "def calculate_f1_score(y_pred, y_prueba):\n",
        "    f1 = f1_score(y_prueba, y_pred, average='macro')\n",
        "    return f1\n",
        "\n",
        "def calculate_metrics(y_pred, y_prueba, start_time, end_time):\n",
        "    recall = calculate_recall(y_pred, y_prueba)\n",
        "    accuracy = calculate_accuracy(y_pred, y_prueba)\n",
        "    precision = calculate_precision(y_pred, y_prueba)\n",
        "    f1 = calculate_f1_score(y_pred, y_prueba)\n",
        "    training_time = end_time - start_time\n",
        "    \n",
        "    print(pd.DataFrame({\n",
        "    'Metric': ['Recall', 'Precision', 'Accuracy', 'F1', 'Training Time'],\n",
        "    'Score': [recall, accuracy, precision, f1, training_time]\n",
        "    }))"
      ]
    },
    {
      "cell_type": "code",
      "execution_count": 3,
      "metadata": {
        "id": "leqsoD_MpIDQ"
      },
      "outputs": [],
      "source": [
        "class PerceptronMulticapa:\n",
        "    def __init__(self, capas, alpha=0.1, funcion='sigmoid'):\n",
        "        self.capas = capas\n",
        "        self.alpha = alpha\n",
        "        self.bias = []\n",
        "        self.pesos = []\n",
        "        self.funcion = funcion\n",
        "        self.derivadas_activacion = {\n",
        "            'sigmoid': self.activacion_derivada,\n",
        "            'tanh': self.tanh_activacion_derivada,\n",
        "            'relu': self.relu_activacion_derivada\n",
        "        }\n",
        "        self.activaciones = {\n",
        "            'sigmoid': self.activacion,\n",
        "            'tanh': self.tanh_activacion,\n",
        "            'relu': self.relu_activacion\n",
        "        }\n",
        "        for i in range(0, len(capas) - 1):\n",
        "            # Inicializar los pesos y bias de cada capa\n",
        "            peso = np.random.randn(capas[i], capas[i+1])\n",
        "            self.pesos.append(peso)\n",
        "            bias = np.random.randn(capas[i+1])\n",
        "            self.bias.append(bias)\n",
        "\n",
        "    def activacion(self, x):\n",
        "        # Función de activación sigmoide\n",
        "        return 1.0 / (1 + np.exp(-x))\n",
        "\n",
        "    def activacion_derivada(self, x):\n",
        "        # Derivada de la función de activación sigmoide\n",
        "        return x * (1 - x)\n",
        "\n",
        "    def tanh_activacion(self, x):\n",
        "        return np.tanh(x)\n",
        "\n",
        "    def tanh_activacion_derivada(self, x):\n",
        "        return 1 - x ** 2\n",
        "\n",
        "    def relu_activacion(self, x):\n",
        "        return np.maximum(0.01 * x, x)\n",
        "\n",
        "    def relu_activacion_derivada(self, x):\n",
        "        return np.where(x > 0, 1, 0.01)\n",
        "\n",
        "    def feedforward(self, X):\n",
        "        # Calcular la salida de cada capa\n",
        "        capa_activacion = [X]\n",
        "        for i in range(0, len(self.capas) - 1):\n",
        "            x = np.dot(capa_activacion[i], self.pesos[i]) + self.bias[i]\n",
        "            y = self.activaciones[self.funcion](x)\n",
        "            capa_activacion.append(y)\n",
        "\n",
        "        return capa_activacion\n",
        "\n",
        "    def backpropagation(self, X, y, capa_activacion):\n",
        "        # Calcular el error de la capa de salida\n",
        "        error = capa_activacion[-1] - y\n",
        "        delta = error * self.derivadas_activacion[self.funcion](capa_activacion[-1])\n",
        "\n",
        "        # Propagar el error hacia atrás a través de la red neuronal\n",
        "        for i in reversed(range(0, len(self.capas) - 1)):\n",
        "            activacion_actual = capa_activacion[i]\n",
        "            activacion_anterior = capa_activacion[i-1] if i > 0 else X\n",
        "            d_peso = np.outer(activacion_anterior, delta)\n",
        "            d_bias = delta\n",
        "            self.pesos[i] -= self.alpha * d_peso\n",
        "            self.bias[i] -= self.alpha * d_bias\n",
        "\n",
        "            delta = np.dot(delta, self.pesos[i].T) * self.derivadas_activacion[self.funcion](activacion_actual)\n",
        "\n",
        "\n",
        "    def entrenar(self, X, y, epochs):\n",
        "        for epoch in range(0, epochs):\n",
        "            for i in range(0, len(X)):\n",
        "                # Feedforward\n",
        "                capa_activacion = self.feedforward(X[i])\n",
        "\n",
        "                # Backpropagation\n",
        "                self.backpropagation(X[i], y[i], capa_activacion)\n",
        "\n",
        "    def predecir(self, X):\n",
        "        # Obtener la salida de la última capa\n",
        "        capa_activacion = self.feedforward(X)\n",
        "        return capa_activacion[-1]\n",
        "    "
      ]
    },
    {
      "cell_type": "code",
      "execution_count": 4,
      "metadata": {
        "id": "VIbMAUlBpIDR"
      },
      "outputs": [],
      "source": [
        "# Cargar el conjunto de datos Iris\n",
        "iris = load_iris()\n",
        "X = iris.data\n",
        "X = X / np.max(X)\n",
        "y = iris.target\n",
        "\n",
        "# Dividir el conjunto de datos en entrenamiento y prueba\n",
        "X_entrenamiento, X_prueba, y_entrenamiento, y_prueba = train_test_split(X, y, test_size=0.2, random_state=42, stratify=y)"
      ]
    },
    {
      "cell_type": "code",
      "execution_count": 5,
      "metadata": {
        "id": "bb48QGFNpIDT"
      },
      "outputs": [],
      "source": [
        "mu = np.mean(X, 0)\n",
        "sigma = np.std(X, 0)\n",
        "X = (X - mu ) / sigma"
      ]
    },
    {
      "attachments": {},
      "cell_type": "markdown",
      "metadata": {
        "id": "TPHH4iWHLV8c"
      },
      "source": [
        "# α = 0,15 y epochs = 3000."
      ]
    },
    {
      "attachments": {},
      "cell_type": "markdown",
      "metadata": {
        "id": "lc5LDxsRA5su"
      },
      "source": [
        "## Sigmoid Perceptron"
      ]
    },
    {
      "cell_type": "code",
      "execution_count": 6,
      "metadata": {
        "colab": {
          "base_uri": "https://localhost:8080/"
        },
        "id": "07oQmbIzpIDV",
        "outputId": "236c71fd-2f9a-471e-8518-e3e606b831eb"
      },
      "outputs": [
        {
          "name": "stdout",
          "output_type": "stream",
          "text": [
            "Predicciones:  [0, 2, 1, 1, 0, 1, 0, 0, 2, 1, 2, 2, 2, 1, 0, 0, 0, 1, 1, 2, 0, 2, 1, 2, 2, 2, 1, 0, 2, 0]\n",
            "Y_Real      :  [0 2 1 1 0 1 0 0 2 1 2 2 2 1 0 0 0 1 1 2 0 2 1 2 2 1 1 0 2 0]\n",
            "Precisión: 0.9666666666666667\n"
          ]
        }
      ],
      "source": [
        "# Crear y entrenar el perceptrón multicapa\n",
        "perceptron = PerceptronMulticapa(capas=[4,4,4,3], alpha=0.15, funcion='sigmoid')\n",
        "\n",
        "start_time = time.time()\n",
        "perceptron.entrenar(X_entrenamiento, np.eye(3)[y_entrenamiento], epochs=3000)\n",
        "end_time = time.time()\n",
        "\n",
        "# Hacer predicciones sobre el conjunto de prueba\n",
        "y_pred = []\n",
        "for i in range(len(X_prueba)):\n",
        "    prediccion = perceptron.predecir(X_prueba[i])\n",
        "    prediccion_clase = np.argmax(prediccion)\n",
        "    y_pred.append(prediccion_clase)\n",
        "\n",
        "# Calcular la precisión de las predicciones\n",
        "print(\"Predicciones: \", y_pred)\n",
        "print(\"Y_Real      : \", y_prueba)\n",
        "precision = sum(y_pred == y_prueba) / len(y_prueba)\n",
        "print(f\"Precisión: {precision}\")"
      ]
    },
    {
      "cell_type": "code",
      "execution_count": 7,
      "metadata": {},
      "outputs": [
        {
          "name": "stdout",
          "output_type": "stream",
          "text": [
            "          Metric     Score\n",
            "0         Recall  0.966667\n",
            "1      Precision  0.966667\n",
            "2       Accuracy  0.969697\n",
            "3             F1  0.966583\n",
            "4  Training Time  9.316990\n"
          ]
        }
      ],
      "source": [
        "calculate_metrics(y_pred, y_prueba, start_time, end_time)"
      ]
    },
    {
      "attachments": {},
      "cell_type": "markdown",
      "metadata": {
        "id": "7NZ2yAxzBUYb"
      },
      "source": [
        "# Tanh Perceptron"
      ]
    },
    {
      "cell_type": "code",
      "execution_count": 26,
      "metadata": {
        "colab": {
          "base_uri": "https://localhost:8080/"
        },
        "id": "W45U80WAGr4y",
        "outputId": "f1582c6c-4e8e-4643-87f7-e55c86ce2ef8"
      },
      "outputs": [
        {
          "name": "stdout",
          "output_type": "stream",
          "text": [
            "Predicciones:  [0, 1, 1, 1, 0, 1, 0, 0, 1, 1, 1, 1, 1, 1, 0, 0, 0, 1, 1, 1, 0, 1, 1, 1, 1, 1, 1, 0, 1, 0]\n",
            "Y_Real      :  [0 2 1 1 0 1 0 0 2 1 2 2 2 1 0 0 0 1 1 2 0 2 1 2 2 1 1 0 2 0]\n",
            "Precisión: 0.6666666666666666\n"
          ]
        }
      ],
      "source": [
        "# Crear y entrenar el perceptrón multicapa\n",
        "perceptron = PerceptronMulticapa(capas=[4,4,4,3], alpha=0.15, funcion='tanh')\n",
        "\n",
        "start_time = time.time()\n",
        "perceptron.entrenar(X_entrenamiento, np.eye(3)[y_entrenamiento], epochs=3000)\n",
        "end_time = time.time()\n",
        "\n",
        "# Hacer predicciones sobre el conjunto de prueba\n",
        "y_pred = []\n",
        "for i in range(len(X_prueba)):\n",
        "    prediccion = perceptron.predecir(X_prueba[i])\n",
        "    prediccion_clase = np.argmax(prediccion)\n",
        "    y_pred.append(prediccion_clase)\n",
        "\n",
        "# Calcular la precisión de las predicciones\n",
        "print(\"Predicciones: \", y_pred)\n",
        "print(\"Y_Real      : \", y_prueba)\n",
        "precision = sum(y_pred == y_prueba) / len(y_prueba)\n",
        "print(f\"Precisión: {precision}\")"
      ]
    },
    {
      "cell_type": "code",
      "execution_count": 27,
      "metadata": {
        "colab": {
          "base_uri": "https://localhost:8080/",
          "height": 206
        },
        "id": "6LrmNpPFHLTC",
        "outputId": "9a68d2fc-3af2-4fa2-a6f1-237a5609d057"
      },
      "outputs": [
        {
          "name": "stdout",
          "output_type": "stream",
          "text": [
            "          Metric     Score\n",
            "0         Recall  0.666667\n",
            "1      Precision  0.666667\n",
            "2       Accuracy  0.833333\n",
            "3             F1  0.555556\n",
            "4  Training Time  7.582468\n"
          ]
        }
      ],
      "source": [
        "calculate_metrics(y_pred, y_prueba, start_time, end_time)"
      ]
    },
    {
      "attachments": {},
      "cell_type": "markdown",
      "metadata": {
        "id": "Bo9mkUzDKidn"
      },
      "source": [
        "## ReLU Perceptron"
      ]
    },
    {
      "cell_type": "code",
      "execution_count": 28,
      "metadata": {
        "colab": {
          "base_uri": "https://localhost:8080/"
        },
        "id": "D7-m_SAXKqbs",
        "outputId": "30244ed9-c170-4c79-b020-eda95711297a"
      },
      "outputs": [
        {
          "name": "stdout",
          "output_type": "stream",
          "text": [
            "Predicciones:  [0, 0, 0, 0, 0, 0, 0, 0, 0, 0, 0, 0, 0, 0, 0, 0, 0, 0, 0, 0, 0, 0, 0, 0, 0, 0, 0, 0, 0, 0]\n",
            "Y_Real      :  [0 2 1 1 0 1 0 0 2 1 2 2 2 1 0 0 0 1 1 2 0 2 1 2 2 1 1 0 2 0]\n",
            "Precisión: 0.3333333333333333\n"
          ]
        }
      ],
      "source": [
        "# Crear y entrenar el perceptrón multicapa\n",
        "perceptron = PerceptronMulticapa(capas=[4,4,4,3], alpha=0.15, funcion='relu')\n",
        "\n",
        "start_time = time.time()\n",
        "perceptron.entrenar(X_entrenamiento, np.eye(3)[y_entrenamiento], epochs=3000)\n",
        "end_time = time.time()\n",
        "\n",
        "# Hacer predicciones sobre el conjunto de prueba\n",
        "y_pred = []\n",
        "for i in range(len(X_prueba)):\n",
        "    prediccion = perceptron.predecir(X_prueba[i])\n",
        "    prediccion_clase = np.argmax(prediccion)\n",
        "    y_pred.append(prediccion_clase)\n",
        "\n",
        "# Calcular la precisión de las predicciones\n",
        "print(\"Predicciones: \", y_pred)\n",
        "print(\"Y_Real      : \", y_prueba)\n",
        "precision = sum(y_pred == y_prueba) / len(y_prueba)\n",
        "print(f\"Precisión: {precision}\")"
      ]
    },
    {
      "cell_type": "code",
      "execution_count": 29,
      "metadata": {
        "colab": {
          "base_uri": "https://localhost:8080/",
          "height": 206
        },
        "id": "Di-JPrgfK18Z",
        "outputId": "1a8870fd-a595-4340-f7af-ec27f69ddf84"
      },
      "outputs": [
        {
          "name": "stdout",
          "output_type": "stream",
          "text": [
            "          Metric     Score\n",
            "0         Recall  0.333333\n",
            "1      Precision  0.333333\n",
            "2       Accuracy  0.777778\n",
            "3             F1  0.166667\n",
            "4  Training Time  9.482137\n"
          ]
        }
      ],
      "source": [
        "calculate_metrics(y_pred, y_prueba, start_time, end_time)"
      ]
    },
    {
      "attachments": {},
      "cell_type": "markdown",
      "metadata": {
        "id": "Zevtf7qfLpEl"
      },
      "source": [
        "# Ajuste de parámetros α y epochs\n"
      ]
    },
    {
      "attachments": {},
      "cell_type": "markdown",
      "metadata": {
        "id": "h9hfFNbDL9uf"
      },
      "source": [
        "## Sigmoid Perceptron: α = 0,01 , epochs = 3000."
      ]
    },
    {
      "cell_type": "code",
      "execution_count": 12,
      "metadata": {
        "colab": {
          "base_uri": "https://localhost:8080/"
        },
        "id": "6LygCHnLL4O5",
        "outputId": "d4a136d9-3687-4f28-e291-6e91db847e1c"
      },
      "outputs": [
        {
          "name": "stdout",
          "output_type": "stream",
          "text": [
            "Predicciones:  [0, 2, 1, 1, 0, 1, 0, 0, 2, 1, 2, 2, 2, 1, 0, 0, 0, 1, 1, 2, 0, 2, 1, 2, 2, 2, 1, 0, 2, 0]\n",
            "Y_Real      :  [0 2 1 1 0 1 0 0 2 1 2 2 2 1 0 0 0 1 1 2 0 2 1 2 2 1 1 0 2 0]\n",
            "Precisión: 0.9666666666666667\n"
          ]
        }
      ],
      "source": [
        "# Crear y entrenar el perceptrón multicapa\n",
        "perceptron = PerceptronMulticapa(capas=[4,4,4,3], alpha=0.01, funcion='sigmoid')\n",
        "\n",
        "start_time = time.time()\n",
        "perceptron.entrenar(X_entrenamiento, np.eye(3)[y_entrenamiento], epochs=3000)\n",
        "end_time = time.time()\n",
        "\n",
        "# Hacer predicciones sobre el conjunto de prueba\n",
        "y_pred = []\n",
        "for i in range(len(X_prueba)):\n",
        "    prediccion = perceptron.predecir(X_prueba[i])\n",
        "    prediccion_clase = np.argmax(prediccion)\n",
        "    y_pred.append(prediccion_clase)\n",
        "\n",
        "# Calcular la precisión de las predicciones\n",
        "print(\"Predicciones: \", y_pred)\n",
        "print(\"Y_Real      : \", y_prueba)\n",
        "precision = sum(y_pred == y_prueba) / len(y_prueba)\n",
        "print(f\"Precisión: {precision}\")"
      ]
    },
    {
      "cell_type": "code",
      "execution_count": 13,
      "metadata": {
        "colab": {
          "base_uri": "https://localhost:8080/",
          "height": 206
        },
        "id": "OvE6bOb1MMjE",
        "outputId": "4cdc539d-2f2b-40e9-d9fc-39a36faa6c92"
      },
      "outputs": [
        {
          "name": "stdout",
          "output_type": "stream",
          "text": [
            "          Metric     Score\n",
            "0         Recall  0.966667\n",
            "1      Precision  0.966667\n",
            "2       Accuracy  0.969697\n",
            "3             F1  0.966583\n",
            "4  Training Time  9.224404\n"
          ]
        }
      ],
      "source": [
        "calculate_metrics(y_pred, y_prueba, start_time, end_time)"
      ]
    },
    {
      "attachments": {},
      "cell_type": "markdown",
      "metadata": {
        "id": "TxFKsIiVNN-G"
      },
      "source": [
        "## Tanh Perceptron: α = 0,002 , epochs = 3000."
      ]
    },
    {
      "cell_type": "code",
      "execution_count": 14,
      "metadata": {
        "colab": {
          "base_uri": "https://localhost:8080/"
        },
        "id": "CnR6Kvk6Nd56",
        "outputId": "3bbfbad7-245f-4eca-e4b5-053d1ba4d9dc"
      },
      "outputs": [
        {
          "name": "stdout",
          "output_type": "stream",
          "text": [
            "Predicciones:  [0, 2, 1, 1, 0, 1, 0, 0, 2, 1, 2, 2, 2, 1, 0, 0, 0, 1, 1, 1, 0, 2, 1, 2, 2, 2, 1, 0, 2, 0]\n",
            "Y_Real      :  [0 2 1 1 0 1 0 0 2 1 2 2 2 1 0 0 0 1 1 2 0 2 1 2 2 1 1 0 2 0]\n",
            "Precisión: 0.9333333333333333\n"
          ]
        }
      ],
      "source": [
        "# Crear y entrenar el perceptrón multicapa\n",
        "perceptron = PerceptronMulticapa(capas=[4,4,4,3], alpha=0.002, funcion='tanh')\n",
        "\n",
        "start_time = time.time()\n",
        "perceptron.entrenar(X_entrenamiento, np.eye(3)[y_entrenamiento], epochs=3000)\n",
        "end_time = time.time()\n",
        "\n",
        "# Hacer predicciones sobre el conjunto de prueba\n",
        "y_pred = []\n",
        "for i in range(len(X_prueba)):\n",
        "    prediccion = perceptron.predecir(X_prueba[i])\n",
        "    prediccion_clase = np.argmax(prediccion)\n",
        "    y_pred.append(prediccion_clase)\n",
        "\n",
        "# Calcular la precisión de las predicciones\n",
        "print(\"Predicciones: \", y_pred)\n",
        "print(\"Y_Real      : \", y_prueba)\n",
        "precision = sum(y_pred == y_prueba) / len(y_prueba)\n",
        "print(f\"Precisión: {precision}\")"
      ]
    },
    {
      "cell_type": "code",
      "execution_count": 15,
      "metadata": {
        "colab": {
          "base_uri": "https://localhost:8080/",
          "height": 206
        },
        "id": "2o0SKjwRNiUt",
        "outputId": "f3f6d509-4f68-40d8-81df-a8e85d79a483"
      },
      "outputs": [
        {
          "name": "stdout",
          "output_type": "stream",
          "text": [
            "          Metric     Score\n",
            "0         Recall  0.933333\n",
            "1      Precision  0.933333\n",
            "2       Accuracy  0.933333\n",
            "3             F1  0.933333\n",
            "4  Training Time  7.608535\n"
          ]
        }
      ],
      "source": [
        "calculate_metrics(y_pred, y_prueba, start_time, end_time)"
      ]
    },
    {
      "attachments": {},
      "cell_type": "markdown",
      "metadata": {
        "id": "9XY7GMdrT_0S"
      },
      "source": [
        "## ReLU Perceptron: α = 0.014 , epochs = 3000."
      ]
    },
    {
      "cell_type": "code",
      "execution_count": 16,
      "metadata": {
        "colab": {
          "base_uri": "https://localhost:8080/"
        },
        "id": "QKns97plUDC7",
        "outputId": "663d06a0-0e51-48ff-8633-9df2bf221666"
      },
      "outputs": [
        {
          "name": "stdout",
          "output_type": "stream",
          "text": [
            "Predicciones:  [0, 2, 0, 0, 0, 2, 0, 0, 2, 2, 2, 2, 2, 0, 0, 0, 1, 0, 2, 2, 0, 2, 0, 2, 2, 2, 0, 0, 2, 0]\n",
            "Y_Real      :  [0 2 1 1 0 1 0 0 2 1 2 2 2 1 0 0 0 1 1 2 0 2 1 2 2 1 1 0 2 0]\n",
            "Precisión: 0.6333333333333333\n"
          ]
        }
      ],
      "source": [
        "# Crear y entrenar el perceptrón multicapa\n",
        "perceptron = PerceptronMulticapa(capas=[4,4,4,3], alpha=0.014, funcion='relu')\n",
        "\n",
        "start_time = time.time()\n",
        "perceptron.entrenar(X_entrenamiento, np.eye(3)[y_entrenamiento], epochs=2000)\n",
        "end_time = time.time()\n",
        "\n",
        "# Hacer predicciones sobre el conjunto de prueba\n",
        "y_pred = []\n",
        "for i in range(len(X_prueba)):\n",
        "    prediccion = perceptron.predecir(X_prueba[i])\n",
        "    prediccion_clase = np.argmax(prediccion)\n",
        "    y_pred.append(prediccion_clase)\n",
        "\n",
        "# Calcular la precisión de las predicciones\n",
        "print(\"Predicciones: \", y_pred)\n",
        "print(\"Y_Real      : \", y_prueba)\n",
        "precision = sum(y_pred == y_prueba) / len(y_prueba)\n",
        "print(f\"Precisión: {precision}\")"
      ]
    },
    {
      "cell_type": "code",
      "execution_count": 17,
      "metadata": {
        "colab": {
          "base_uri": "https://localhost:8080/",
          "height": 206
        },
        "id": "ND0fYS_CUeof",
        "outputId": "1aee0536-5221-4077-b60c-0ef316b24b23"
      },
      "outputs": [
        {
          "name": "stdout",
          "output_type": "stream",
          "text": [
            "          Metric     Score\n",
            "0         Recall  0.633333\n",
            "1      Precision  0.633333\n",
            "2       Accuracy  0.438095\n",
            "3             F1  0.517778\n",
            "4  Training Time  6.334726\n"
          ]
        }
      ],
      "source": [
        "calculate_metrics(y_pred, y_prueba, start_time, end_time)"
      ]
    },
    {
      "attachments": {},
      "cell_type": "markdown",
      "metadata": {
        "id": "2fwNI2qDVJow"
      },
      "source": [
        "## 4. Determine cuál función de activación arrojó mejores resultados."
      ]
    },
    {
      "attachments": {},
      "cell_type": "markdown",
      "metadata": {},
      "source": [
        "### Observando los valores de las métricas, podemos concluir que la función de activación que arrojó los mejores resultados es la Sigmoid Perceptron. Esta función obtuvo un valor perfecto de 1.000000 en todas las métricas (Recall, Precision, Accuracy y F1), lo que indica un rendimiento excelente en la clasificación. Además, el tiempo de entrenamiento fue ligeramente más rápido en comparación con las otras funciones de activación."
      ]
    },
    {
      "attachments": {},
      "cell_type": "markdown",
      "metadata": {
        "id": "-TgmCe4qpIDW"
      },
      "source": [
        "# MLP con Sklearn"
      ]
    },
    {
      "cell_type": "code",
      "execution_count": 18,
      "metadata": {
        "id": "0VlCc075pIDX"
      },
      "outputs": [],
      "source": [
        "from sklearn.neural_network import MLPClassifier\n",
        "from sklearn.datasets import load_iris\n",
        "from sklearn.model_selection import train_test_split, GridSearchCV\n",
        "from sklearn.metrics import accuracy_score"
      ]
    },
    {
      "attachments": {},
      "cell_type": "markdown",
      "metadata": {
        "id": "f2iOD5G8Xvrt"
      },
      "source": [
        "# Best params with GridSearch"
      ]
    },
    {
      "cell_type": "code",
      "execution_count": 19,
      "metadata": {
        "colab": {
          "base_uri": "https://localhost:8080/"
        },
        "id": "8LMMbB83XxVP",
        "outputId": "7515601b-5267-45b7-e6a7-76302cc195e7"
      },
      "outputs": [
        {
          "name": "stdout",
          "output_type": "stream",
          "text": [
            "Best params for MLPClassifier:\n",
            "{'activation': 'tanh', 'alpha': 0.04, 'hidden_layer_sizes': (20, 20)}\n",
            "Best score:\n",
            "0.9833333333333334\n"
          ]
        }
      ],
      "source": [
        "model = MLPClassifier(max_iter=1000)\n",
        "parameters = {\n",
        "    'hidden_layer_sizes': [(10,10), (15,15), (20,20)],\n",
        "    'activation': ['logistic', 'tanh', 'relu'],\n",
        "    'alpha': [0.01, 0.02, 0.04, 0.05, 0.1, 0.2, 0.3]\n",
        "}\n",
        "grid_search = GridSearchCV(model, parameters, cv=5)\n",
        "\n",
        "grid_search.fit(X_entrenamiento, y_entrenamiento)\n",
        "                \n",
        "print(\"Best params for MLPClassifier:\")\n",
        "print(grid_search.best_params_)\n",
        "print(\"Best score:\")\n",
        "print(grid_search.best_score_)"
      ]
    },
    {
      "cell_type": "code",
      "execution_count": 20,
      "metadata": {
        "colab": {
          "base_uri": "https://localhost:8080/"
        },
        "id": "A_bccxMypIDX",
        "outputId": "590d9c07-0e2a-439a-8499-5f0743c9208f"
      },
      "outputs": [
        {
          "name": "stdout",
          "output_type": "stream",
          "text": [
            "Predicciones:  [0 2 1 1 0 1 0 0 2 1 2 2 2 1 0 0 0 1 1 2 0 2 1 2 2 2 1 0 2 0]\n",
            "Valor real  :  [0 2 1 1 0 1 0 0 2 1 2 2 2 1 0 0 0 1 1 2 0 2 1 2 2 1 1 0 2 0]\n",
            "Precisión: 0.97\n"
          ]
        }
      ],
      "source": [
        "mlp = MLPClassifier(activation=grid_search.best_params_['activation'], alpha=grid_search.best_params_['alpha'], hidden_layer_sizes=grid_search.best_params_['hidden_layer_sizes'], max_iter=1000, random_state=42, solver='sgd')\n",
        "\n",
        "start_time = time.time()\n",
        "mlp.fit(X_entrenamiento, y_entrenamiento)\n",
        "end_time = time.time()\n",
        "\n",
        "y_pred = mlp.predict(X_prueba)\n",
        "\n",
        "print(\"Predicciones: \", y_pred)\n",
        "print(\"Valor real  : \",y_prueba)\n",
        "\n",
        "accuracy = accuracy_score(y_prueba, y_pred)\n",
        "print(\"Precisión: {:.2f}\".format(accuracy))"
      ]
    },
    {
      "cell_type": "code",
      "execution_count": 21,
      "metadata": {
        "colab": {
          "base_uri": "https://localhost:8080/",
          "height": 206
        },
        "id": "j0f494rkXP4r",
        "outputId": "65ca4d9a-cbf9-4ac9-c7b5-8100bffce047"
      },
      "outputs": [
        {
          "name": "stdout",
          "output_type": "stream",
          "text": [
            "          Metric     Score\n",
            "0         Recall  0.966667\n",
            "1      Precision  0.966667\n",
            "2       Accuracy  0.969697\n",
            "3             F1  0.966583\n",
            "4  Training Time  0.146423\n"
          ]
        }
      ],
      "source": [
        "calculate_metrics(y_pred, y_prueba, start_time, end_time)"
      ]
    },
    {
      "attachments": {},
      "cell_type": "markdown",
      "metadata": {
        "id": "VV865TqMeCww"
      },
      "source": [
        "# Creando una red específica"
      ]
    },
    {
      "cell_type": "code",
      "execution_count": 22,
      "metadata": {
        "id": "q5loWOuDfdCI"
      },
      "outputs": [],
      "source": [
        "class PerceptronMulticapaModified:\n",
        "    def __init__(self, capas, alpha=0.1):\n",
        "        self.capas = capas\n",
        "        self.alpha = alpha\n",
        "        self.bias = []\n",
        "        self.pesos = []\n",
        "        for i in range(0, len(capas) - 1):\n",
        "            # Inicializar los pesos y bias de cada capa\n",
        "            peso = np.random.randn(capas[i], capas[i+1])\n",
        "            self.pesos.append(peso)\n",
        "            bias = np.random.randn(capas[i+1])\n",
        "            self.bias.append(bias)\n",
        "\n",
        "    def activacion(self, x):\n",
        "        # Función de activación sigmoide\n",
        "        return 1.0 / (1 + np.exp(-x))\n",
        "\n",
        "    def activacion_derivada(self, x):\n",
        "        # Derivada de la función de activación sigmoide\n",
        "        return x * (1 - x)\n",
        "\n",
        "    def feedforward(self, X):\n",
        "        # Calcular la salida de cada capa\n",
        "        capa_activacion = [X]\n",
        "        for i in range(0, len(self.capas) - 1):\n",
        "            x = np.dot(capa_activacion[i], self.pesos[i]) + self.bias[i]\n",
        "            y = self.activacion(x)\n",
        "            capa_activacion.append(y)\n",
        "        return capa_activacion\n",
        "\n",
        "    def backpropagation(self, X, y, capa_activacion):\n",
        "        # Calcular el error de la capa de salida\n",
        "        error = capa_activacion[-1] - y\n",
        "        delta = error * self.activacion_derivada(capa_activacion[-1])\n",
        "        \n",
        "        # Propagar el error hacia atrás a través de la red neuronal\n",
        "        for i in reversed(range(0, len(self.capas) - 1)):\n",
        "            activacion_actual = capa_activacion[i]\n",
        "            d_peso = np.outer(activacion_actual, delta)\n",
        "            d_bias = delta\n",
        "            self.pesos[i] -= self.alpha * d_peso\n",
        "            self.bias[i] -= self.alpha * d_bias\n",
        "            if (i!=0):\n",
        "                delta = np.dot(delta, self.pesos[i].T) * self.activacion_derivada(activacion_actual)\n",
        "\n",
        "    def entrenar(self, X, y, epochs):\n",
        "        for epoch in range(0, epochs):\n",
        "            for i in range(0, len(X)):\n",
        "                # Feedforward\n",
        "                capa_activacion = self.feedforward(X[i])\n",
        "\n",
        "                # Backpropagation\n",
        "                self.backpropagation(X[i], y[i], capa_activacion)\n",
        "\n",
        "    def predecir(self, X):\n",
        "        # Obtener la salida de la última capa\n",
        "        capa_activacion = self.feedforward(X)\n",
        "        return capa_activacion[-1]\n",
        "    "
      ]
    },
    {
      "cell_type": "code",
      "execution_count": 23,
      "metadata": {
        "id": "wOqmWbP1gDmN"
      },
      "outputs": [
        {
          "name": "stdout",
          "output_type": "stream",
          "text": [
            "Predicciones:  [0, 2, 1, 1, 0, 1, 0, 0, 2, 1, 2, 2, 2, 1, 0, 0, 0, 1, 1, 2, 0, 2, 1, 2, 2, 2, 1, 0, 2, 0]\n",
            "Y_Real      :  [0 2 1 1 0 1 0 0 2 1 2 2 2 1 0 0 0 1 1 2 0 2 1 2 2 1 1 0 2 0]\n",
            "Precisión: 0.9666666666666667\n"
          ]
        }
      ],
      "source": [
        "# Crear y entrenar el perceptrón multicapa\n",
        "perceptron = PerceptronMulticapaModified(capas=[4,8,5,3], alpha=0.15)\n",
        "perceptron.entrenar(X_entrenamiento, np.eye(3)[y_entrenamiento], epochs=3000)\n",
        "\n",
        "# Hacer predicciones sobre el conjunto de prueba\n",
        "y_pred = []\n",
        "for i in range(len(X_prueba)):\n",
        "    prediccion = perceptron.predecir(X_prueba[i])\n",
        "    prediccion_clase = np.argmax(prediccion)\n",
        "    y_pred.append(prediccion_clase)\n",
        "\n",
        "# Calcular la precisión de las predicciones\n",
        "print(\"Predicciones: \", y_pred)\n",
        "print(\"Y_Real      : \", y_prueba)\n",
        "precision = sum(y_pred == y_prueba) / len(y_prueba)\n",
        "print(f\"Precisión: {precision}\")"
      ]
    },
    {
      "cell_type": "code",
      "execution_count": 24,
      "metadata": {
        "id": "hJvZW3ybLT-S"
      },
      "outputs": [
        {
          "name": "stdout",
          "output_type": "stream",
          "text": [
            "          Metric     Score\n",
            "0         Recall  0.966667\n",
            "1      Precision  0.966667\n",
            "2       Accuracy  0.969697\n",
            "3             F1  0.966583\n",
            "4  Training Time  0.146423\n"
          ]
        }
      ],
      "source": [
        "calculate_metrics(y_pred, y_prueba, start_time, end_time)"
      ]
    }
  ],
  "metadata": {
    "colab": {
      "provenance": []
    },
    "kernelspec": {
      "display_name": "Python 3 (ipykernel)",
      "language": "python",
      "name": "python3"
    },
    "language_info": {
      "codemirror_mode": {
        "name": "ipython",
        "version": 3
      },
      "file_extension": ".py",
      "mimetype": "text/x-python",
      "name": "python",
      "nbconvert_exporter": "python",
      "pygments_lexer": "ipython3",
      "version": "3.9.6"
    }
  },
  "nbformat": 4,
  "nbformat_minor": 0
}
